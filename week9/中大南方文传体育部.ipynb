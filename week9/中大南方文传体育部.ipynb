{
 "cells": [
  {
   "cell_type": "markdown",
   "metadata": {},
   "source": [
    "# 准备工作"
   ]
  },
  {
   "cell_type": "code",
   "execution_count": 86,
   "metadata": {},
   "outputs": [],
   "source": [
    "'''\n",
    "阿里研究院\n",
    "阿里健康\n",
    "阿里巴巴商学院\n",
    "阿里数据\n",
    "\n",
    "腾讯金融科技\n",
    "腾讯研究院\n",
    "腾讯媒体研究院\n",
    "腾讯云启研究院\n",
    "酷鹅用户研究院\n",
    "'''\n",
    "公众号 = \"中大南方文传体育部\""
   ]
  },
  {
   "cell_type": "code",
   "execution_count": 37,
   "metadata": {},
   "outputs": [],
   "source": [
    "fn = { \"output\" : { \"公众号_htm_snippets\": \"data_raw_src/公众号_htm_snippets_{公众号}.tsv\",\n",
    "                    \"公众号_df\": \"data_raw_src/公众号_df_{公众号}.tsv\",\n",
    "                    \"公众号_xlsx\": \"data_sets/公众号_url_{公众号}.xlsx\" } \\\n",
    "      }"
   ]
  },
  {
   "cell_type": "markdown",
   "metadata": {},
   "source": [
    "# 采集公众号（requests）"
   ]
  },
  {
   "cell_type": "code",
   "execution_count": 7,
   "metadata": {},
   "outputs": [
    {
     "name": "stdout",
     "output_type": "stream",
     "text": [
      "0\n",
      "5\n",
      "10\n",
      "15\n",
      "20\n"
     ]
    },
    {
     "ename": "NameError",
     "evalue": "name 'ExcelWriter' is not defined",
     "output_type": "error",
     "traceback": [
      "\u001b[1;31m---------------------------------------------------------------------------\u001b[0m",
      "\u001b[1;31mNameError\u001b[0m                                 Traceback (most recent call last)",
      "\u001b[1;32m<ipython-input-7-496c388f9d1d>\u001b[0m in \u001b[0;36m<module>\u001b[1;34m()\u001b[0m\n\u001b[0;32m     51\u001b[0m \u001b[0mtest\u001b[0m\u001b[1;33m=\u001b[0m\u001b[0mpd\u001b[0m\u001b[1;33m.\u001b[0m\u001b[0mDataFrame\u001b[0m\u001b[1;33m(\u001b[0m\u001b[0mcolumns\u001b[0m\u001b[1;33m=\u001b[0m\u001b[0mname\u001b[0m\u001b[1;33m,\u001b[0m\u001b[0mdata\u001b[0m\u001b[1;33m=\u001b[0m\u001b[0mcontent_list\u001b[0m\u001b[1;33m)\u001b[0m\u001b[1;33m\u001b[0m\u001b[0m\n\u001b[0;32m     52\u001b[0m \u001b[1;33m\u001b[0m\u001b[0m\n\u001b[1;32m---> 53\u001b[1;33m \u001b[1;32mwith\u001b[0m \u001b[0mExcelWriter\u001b[0m\u001b[1;33m(\u001b[0m\u001b[0mfn\u001b[0m\u001b[1;33m[\u001b[0m\u001b[1;34m\"output\"\u001b[0m\u001b[1;33m]\u001b[0m\u001b[1;33m[\u001b[0m\u001b[1;34m\"公众号_xlsx\"\u001b[0m\u001b[1;33m]\u001b[0m\u001b[1;33m.\u001b[0m\u001b[0mformat\u001b[0m\u001b[1;33m(\u001b[0m\u001b[0m公众号\u001b[0m\u001b[1;33m=\u001b[0m\u001b[1;34m\"蚂蚁金服科技_requests\"\u001b[0m\u001b[1;33m)\u001b[0m\u001b[1;33m)\u001b[0m \u001b[1;32mas\u001b[0m \u001b[0mwriter\u001b[0m\u001b[1;33m:\u001b[0m\u001b[1;33m\u001b[0m\u001b[0m\n\u001b[0m\u001b[0;32m     54\u001b[0m     \u001b[0mtest\u001b[0m\u001b[1;33m.\u001b[0m\u001b[0mto_excel\u001b[0m\u001b[1;33m(\u001b[0m\u001b[0mwriter\u001b[0m\u001b[1;33m)\u001b[0m\u001b[1;33m\u001b[0m\u001b[0m\n\u001b[0;32m     55\u001b[0m \u001b[1;31m# test.to_csv(\"../微信公众号爬虫_zhichao/南方周末.csv\",mode='a',encoding='utf-8')\u001b[0m\u001b[1;33m\u001b[0m\u001b[1;33m\u001b[0m\u001b[0m\n",
      "\u001b[1;31mNameError\u001b[0m: name 'ExcelWriter' is not defined"
     ]
    }
   ],
   "source": [
    "# 目标url\n",
    "\n",
    "import time\n",
    "import requests\n",
    "import pandas as pd\n",
    "import csv\n",
    "\n",
    "\n",
    "url = \"https://mp.weixin.qq.com/cgi-bin/appmsg\"\n",
    "\n",
    "# 使用Cookie，跳过登陆操作\n",
    "headers = {\n",
    "  \"Cookie\": \"pgv_pvi=7968112640; RK=dAxoOkmNPM; ptcz=5e911a8738788675abb010f85db7a6c13b0570811db08ebefce3d01adfff5127; tvfe_boss_uuid=35a8107e1f02cbf7; pgv_pvid=160875890; o_cookie=576726974; pgv_si=s7389809664; uin=o0576726974; skey=@biD9HkZPV; ptisp=ctc; ua_id=o954FR4YG9aIylgbAAAAAAG1mFSkee-v8r6HcCv6PUM=; cert=xdo33QVRQxDDEATQOxVPYZVSl8hcgbBw; noticeLoginFlag=1; xid=; openid2ticket_omd36wPk8CgeWUiAccw6ZoK6cfKM=V9b+6gaDppAhuzkBsqQ2cqmVOoVbPExAl/fu+rqQ2xk=; mm_lang=zh_CN; rewardsn=; wxtokenkey=777; uuid=3f563116b647ce9a578c8d004d3508a8; ticket=a4fe0acfed322dd3eff3a301d94afded6dac3be0; ticket_id=gh_b8ce1853cd9b; rand_info=CAESIIpFhkwqorHCev9Vkx8d1xoS/h28VHdI65d1I+hS8rYh; slave_bizuin=3252904960; data_bizuin=3509374721; bizuin=3252904960; data_ticket=6z/ln+jO+jKPoA5MKzm3D6Cbfkg41cD9D6v6HTaHq8//2C9Hk73W6LtQlNMXteTT; slave_sid=eWpTNFJYU0hHQUFtcUt1TnBGSEZDYU55bHJXX2hhTTlZa3hvcno4MFRNaGd2QUlIT2Vxb0xHUmRWc1RQV2txQkI3OXFlUXhuOWY1aGVYbWdvTGFpNzNhTTdNaGhaRWNWNmwzTmFMRWlEa25Pa0VkZGpwVGkxNTRUdmRTbEtpbGF2UFUwbEZJR0lHdnlBcDFs; slave_user=gh_b8ce1853cd9b; openid2ticket_oAc8s0T6rPCr8qnMO7SoANf_3jVI=LJrk/Pum+BnDCZRPacwc+RgFKJv/+2uJEUtvOa1gdTU=\",\n",
    "  \"User-Agent\": \"Mozilla/5.0 (Windows NT 10.0; Win64; x64) AppleWebKit/537.36 (KHTML, like Gecko) Chrome/81.0.4044.138 Safari/537.36\"}\n",
    "\n",
    "data = {\n",
    "    \"token\": \"1119521086\",\n",
    "    \"lang\": \"zh_CN\",\n",
    "    \"f\": \"json\",\n",
    "    \"ajax\": \"1\",\n",
    "    \"action\": \"list_ex\",\n",
    "    \"begin\": \"0\",\n",
    "    \"count\": \"5\",\n",
    "    \"query\": \"\",\n",
    "    \"fakeid\": \"MzI0Nzc3MTQyMw==\",\n",
    "    \"type\": \"9\",\n",
    "}\n",
    "\n",
    "\n",
    "\n",
    "content_list=[]\n",
    "\n",
    "for i in range(5):\n",
    "    data[\"begin\"] = i*5\n",
    "    print(data[\"begin\"])\n",
    "    time.sleep(3)\n",
    "    # 使用get方法进行提交\n",
    "    content_json = requests.get(url, headers=headers, params=data).json()\n",
    "#     print(content_json)\n",
    "    # 返回了一个json，里面是每一页的数据\n",
    "    for item in content_json[\"app_msg_list\"]:\n",
    "    # 提取每页文章的标题及对应的url\n",
    "        items = []\n",
    "        items.append(item[\"title\"])\n",
    "        items.append(item[\"link\"])\n",
    "        items.append(item[\"create_time\"])\n",
    "        content_list.append(items)\n",
    "\n",
    "\n",
    "name=['title','link','create_time']\n",
    "test=pd.DataFrame(columns=name,data=content_list)\n",
    "with pd.ExcelWriter(fn[\"output\"][\"公众号_xlsx\"].format(公众号=\"蚂蚁金服科技_requests\")) as writer:\n",
    "    test.to_excel(writer)\n",
    "\n",
    "# test.to_csv(\"../微信公众号爬虫_zhichao/南方周末.csv\",mode='a',encoding='utf-8')\n",
    "# print(\"保存成功\")"
   ]
  },
  {
   "cell_type": "markdown",
   "metadata": {},
   "source": [
    "# 采集公众号（selenium）"
   ]
  },
  {
   "cell_type": "code",
   "execution_count": 19,
   "metadata": {},
   "outputs": [],
   "source": [
    "import pandas as pd\n",
    "import numpy as np\n",
    "from lxml.html import fromstring\n",
    "import time\n",
    "from random import random\n",
    "\n",
    "# when selenium main_content is used\n",
    "# Parses an HTML document from a string constant.  Returns the root nood\n",
    "# root = fromstring(df.loc[1,\"html_snippets\"]) "
   ]
  },
  {
   "cell_type": "markdown",
   "metadata": {},
   "source": [
    "## 使用Selenium\n",
    "* 要更改 opts.binary_location 至自己本地的Chrome浏览器，建议portable\n",
    "* Chrome浏览器 和 chromedriver.exe要同版本号到小数后一位\n",
    "* 要确保可以 开启浏览器机器人\n",
    "* 要确保浏览器机器人 可以打开网页 driver.get(\"https://mp.weixin.qq.com\")"
   ]
  },
  {
   "cell_type": "code",
   "execution_count": 87,
   "metadata": {},
   "outputs": [
    {
     "name": "stderr",
     "output_type": "stream",
     "text": [
      "F:\\qq\\python\\lib\\site-packages\\ipykernel_launcher.py:18: DeprecationWarning: use options instead of chrome_options\n"
     ]
    }
   ],
   "source": [
    "from selenium import webdriver\n",
    "from selenium.webdriver.common.desired_capabilities import DesiredCapabilities\n",
    "\n",
    "#caps=dict()\n",
    "#caps[\"pageLoadStrategy\"] = \"none\"   # Do not wait for full page load\n",
    "\n",
    "opts = webdriver.ChromeOptions()\n",
    "opts.add_argument('--no-sandbox')#解决DevToolsActivePort文件不存在的报错\n",
    "opts.add_argument('window-size=1920x3000') #指定浏览器分辨率\n",
    "opts.add_argument('--disable-gpu') #谷歌文档提到需要加上一这个属性来规避bug\n",
    "opts.add_argument('--hide-scrollbars') #隐藏滚动条, 应对些特殊页面\n",
    "#opts.add_argument('blink-settings=imagesEnabled=false') #不加载图片, 提升速度\n",
    "#opts.add_argument('--headless') #浏览器不提供可视化页面. linux下如果系统不支持可视化不加这条会启动失败\n",
    "\n",
    "opts.binary_location = r\"C:\\Program Files (x86)\\Google\\Chrome\\Application\\chrome.exe\" #\"H:\\_coding_\\Gitee\\InternetNewMedia\\CapstonePrj2016\\chromedriver.exe\"  \n",
    "\n",
    "# \"H:\\_coding_\\Gitee\\InternetNewMedia\\CapstonePrj2016\\chromedriver.exe\"  \n",
    "driver = webdriver.Chrome( chrome_options = opts) #desired_capabilities=caps,"
   ]
  },
  {
   "cell_type": "code",
   "execution_count": 88,
   "metadata": {},
   "outputs": [],
   "source": [
    "driver.get(\"https://mp.weixin.qq.com\")"
   ]
  },
  {
   "cell_type": "markdown",
   "metadata": {},
   "source": [
    "## 填表登入"
   ]
  },
  {
   "cell_type": "markdown",
   "metadata": {},
   "source": [
    "selenium 的定位方法\n",
    "* find_element_by_id &ensp;&ensp;&ensp;  根据标签id定位\n",
    "* find_element_by_name   &ensp;&ensp;&ensp; 根据标签的name定位\n",
    "* find_element_by_xpath  &ensp;&ensp;&ensp; 根据xpath定位\n",
    "* find_element_by_link_text  &ensp;&ensp;&ensp; 通过文字链接来定位元素\n",
    "* find_element_by_partial_link_text  &ensp;&ensp;&ensp;  通过文字链接来定位元素\n",
    "* find_element_by_tag_name  &ensp;&ensp;&ensp;  根据标签的名字定位\n",
    "* find_element_by_class_name  &ensp;&ensp;&ensp; 通过class name 定位\n",
    "* find_element_by_css_selector  &ensp;&ensp;&ensp;  根据元素属性来定位"
   ]
  },
  {
   "cell_type": "code",
   "execution_count": 89,
   "metadata": {},
   "outputs": [],
   "source": [
    "payload =  {\"account\": \"2646977745@qq.com\", \"password\": \"as83373734\"}\n",
    "\n",
    "driver.find_element_by_xpath('//div[@class=\"login__type__container login__type__container__scan\"]/a').click()"
   ]
  },
  {
   "cell_type": "markdown",
   "metadata": {},
   "source": [
    "WebDriver 常用方法：\n",
    "* clear()清楚文本\n",
    "* send_keys(values)模拟按键输入\n",
    "* click()模拟点击\n",
    "* submit模拟提交"
   ]
  },
  {
   "cell_type": "code",
   "execution_count": 90,
   "metadata": {},
   "outputs": [],
   "source": [
    "driver.find_element_by_xpath('//form[@class=\"login_form\"]//input[@name=\"account\"]').clear()\n",
    "driver.find_element_by_xpath('//form[@class=\"login_form\"]//input[@name=\"account\"]').send_keys(payload['account'])\n",
    "driver.find_element_by_xpath('//form[@class=\"login_form\"]//input[@name=\"password\"]').clear()\n",
    "driver.find_element_by_xpath('//form[@class=\"login_form\"]//input[@name=\"password\"]').send_keys(payload['password'])"
   ]
  },
  {
   "cell_type": "code",
   "execution_count": 91,
   "metadata": {},
   "outputs": [],
   "source": [
    "driver.find_element_by_xpath('//div[@class=\"login_btn_panel\"]/a').click()"
   ]
  },
  {
   "cell_type": "markdown",
   "metadata": {},
   "source": [
    "## 点选单"
   ]
  },
  {
   "cell_type": "markdown",
   "metadata": {},
   "source": [
    "其他常用方法\n",
    "* size：返回元素的尺寸\n",
    "* text：获取元素的文本\n",
    "* get_attribute：获取属性值  &ensp;&ensp;&ensp; get_attribute('innerHTML')获取元素内的全部HTML\n",
    "* is_displayed()：设置该元素用户是否可见"
   ]
  },
  {
   "cell_type": "code",
   "execution_count": 92,
   "metadata": {},
   "outputs": [
    {
     "data": {
      "text/plain": [
       "'展开'"
      ]
     },
     "execution_count": 92,
     "metadata": {},
     "output_type": "execute_result"
    }
   ],
   "source": [
    "element = driver.find_element_by_xpath('//a[@id=\"m_open\"]')\n",
    "element.click()\n",
    "main_content = element.get_attribute('innerHTML')\n",
    "main_content"
   ]
  },
  {
   "cell_type": "code",
   "execution_count": 93,
   "metadata": {},
   "outputs": [],
   "source": [
    "driver.execute_script(\"window.scrollTo(0,document.body.scrollHeight)\")"
   ]
  },
  {
   "cell_type": "code",
   "execution_count": 94,
   "metadata": {},
   "outputs": [
    {
     "data": {
      "text/plain": [
       "'https://mp.weixin.qq.com/cgi-bin/appmsg?begin=0&count=10&t=media/appmsg_list&type=10&action=list&token=1217813269&lang=zh_CN'"
      ]
     },
     "execution_count": 94,
     "metadata": {},
     "output_type": "execute_result"
    }
   ],
   "source": [
    "element = driver.find_element_by_xpath('//li[@title[contains(.,\"素材管理\")]]/a') \n",
    "# main_content = element.get_attribute('innerHTML')\n",
    "# main_content\n",
    "url2= element.get_attribute(\"href\")\n",
    "url2"
   ]
  },
  {
   "cell_type": "code",
   "execution_count": 95,
   "metadata": {},
   "outputs": [],
   "source": [
    "driver.get(url2)"
   ]
  },
  {
   "cell_type": "markdown",
   "metadata": {},
   "source": [
    "## 新建图文消息"
   ]
  },
  {
   "cell_type": "code",
   "execution_count": 96,
   "metadata": {},
   "outputs": [],
   "source": [
    "element = driver.find_element_by_xpath('//*[text()[contains(.,\"新建图文消息\")]]') \n",
    "main_content = element.get_attribute('innerHTML')\n",
    "main_content\n",
    "element.click()"
   ]
  },
  {
   "cell_type": "code",
   "execution_count": 97,
   "metadata": {},
   "outputs": [
    {
     "name": "stdout",
     "output_type": "stream",
     "text": [
      "['CDwindow-8A5E52CA7C83A2B6CC427D8854779C1C', 'CDwindow-99960EFF8A7B62348DB5966E3415FEE1']\n"
     ]
    }
   ],
   "source": [
    "print (driver.window_handles)"
   ]
  },
  {
   "cell_type": "code",
   "execution_count": 98,
   "metadata": {},
   "outputs": [],
   "source": [
    "# 新建图文消息开了另一分视窗，所以要切换 switch_to \n",
    "driver.switch_to.window(driver.window_handles[-1])"
   ]
  },
  {
   "cell_type": "markdown",
   "metadata": {},
   "source": [
    "## 超链接"
   ]
  },
  {
   "cell_type": "code",
   "execution_count": 99,
   "metadata": {},
   "outputs": [
    {
     "name": "stdout",
     "output_type": "stream",
     "text": [
      "                超链接              \n"
     ]
    }
   ],
   "source": [
    "element = driver.find_element_by_xpath('//*[text()[contains(.,\"超链接\")]]') \n",
    "main_content = element.get_attribute('innerHTML')\n",
    "print(main_content)\n",
    "element.click()"
   ]
  },
  {
   "cell_type": "code",
   "execution_count": 100,
   "metadata": {},
   "outputs": [
    {
     "name": "stdout",
     "output_type": "stream",
     "text": [
      "选择其他公众号\n"
     ]
    }
   ],
   "source": [
    "# 点 选择其他公众号\n",
    "element = driver.find_element_by_xpath('//*[text()[contains(.,\"选择其他公众号\")]]') \n",
    "main_content = element.get_attribute('innerHTML')\n",
    "print(main_content)\n",
    "element.click()"
   ]
  },
  {
   "cell_type": "code",
   "execution_count": 101,
   "metadata": {},
   "outputs": [],
   "source": [
    "driver.find_element_by_xpath('//form//div[@class=\"inner_link_account_area\"]//input[@class=\"weui-desktop-form__input\"]').clear()\n",
    "driver.find_element_by_xpath('//form//div[@class=\"inner_link_account_area\"]//input[@class=\"weui-desktop-form__input\"]').send_keys(公众号)"
   ]
  },
  {
   "cell_type": "code",
   "execution_count": 102,
   "metadata": {},
   "outputs": [
    {
     "name": "stdout",
     "output_type": "stream",
     "text": [
      "<div class=\"weui-desktop-icon weui-desktop-icon__inputSearch weui-desktop-icon__small\"><!----> <!----> <!----> <!----> <!----> <!----> <!----> <!----> <!----> <!----> <!----> <!----> <!----> <!----> <!----> <!----> <!----> <!----> <!----> <!----> <!----> <!----> <!----> <!----> <!----> <!----> <!----> <!----> <!----> <!----> <!----> <!----> <!----> <!----> <!----> <!----> <!----> <!----> <!----> <!----> <!----> <!----> <!----> <!----> <!----> <!----> <!----> <!----> <!----> <!----> <!----> <!----> <!----> <!----> <svg width=\"16\" height=\"16\" viewBox=\"0 0 16 16\" xmlns=\"http://www.w3.org/2000/svg\"><path d=\"M11.33 10.007l4.273 4.273a.502.502 0 0 1 .005.709l-.585.584a.499.499 0 0 1-.709-.004L10.046 11.3a6.278 6.278 0 1 1 1.284-1.294zm.012-3.729a5.063 5.063 0 1 0-10.127 0 5.063 5.063 0 0 0 10.127 0z\"></path></svg> <!----> <!----> <!----> <!----></div>\n"
     ]
    }
   ],
   "source": [
    "# 点放大镜搜\n",
    "element = driver.find_element_by_xpath('//button[@class=\"weui-desktop-icon-btn weui-desktop-search__btn\"]')\n",
    "main_content = element.get_attribute('innerHTML')\n",
    "print(main_content)\n",
    "element.click()"
   ]
  },
  {
   "cell_type": "code",
   "execution_count": 103,
   "metadata": {},
   "outputs": [
    {
     "name": "stdout",
     "output_type": "stream",
     "text": [
      "<li class=\"inner_link_account_item\"><div class=\"weui-desktop-vm_primary\"><img src=\"http://mmbiz.qpic.cn/mmbiz_png/SXjwP8eTlZ6lPS2esEWzRvu11lkaMxib2cYiaib7cUTl6Zks8OwZov5khsibI0XWEJmFuWteFvAut3qcO22Mx4xiatQ/0?wx_fmt=png\" class=\"inner_link_account_avatar\"> <strong class=\"inner_link_account_nickname\">中大南方文传体育部</strong> <i class=\"inner_link_account_wechat\">微信号：zdnfwctyb</i></div> <div class=\"weui-desktop-vm_default inner_link_account_type\">订阅号</div></li>\n"
     ]
    }
   ],
   "source": [
    "element = driver.find_element_by_xpath('//ul[@class=\"inner_link_account_list\"]')\n",
    "main_content = element.get_attribute('innerHTML')\n",
    "print(main_content)\n",
    "公众号SERP = main_content\n"
   ]
  },
  {
   "cell_type": "code",
   "execution_count": 104,
   "metadata": {},
   "outputs": [],
   "source": [
    "# 解析\n",
    "root = fromstring(公众号SERP) "
   ]
  },
  {
   "cell_type": "code",
   "execution_count": 105,
   "metadata": {},
   "outputs": [],
   "source": [
    "主 = root.xpath('//li[@class=\"inner_link_account_item\"]')\n",
    "\n",
    "account_list = []\n",
    "for e in 主:\n",
    "    account_nickname = e.xpath('./div/strong[@class=\"inner_link_account_nickname\"]')[0].text\n",
    "    account_wechat = e.xpath('./div/i[@class=\"inner_link_account_wechat\"]')[0].text\n",
    "    account_img = e.xpath('./div/img/@src')[0]\n",
    "    account = {\"nickname\": account_nickname, \"wechat\": account_wechat, \"img\": account_img,}\n",
    "    account_list.append(account)\n",
    "\n",
    "df_account = pd.DataFrame(account_list)"
   ]
  },
  {
   "cell_type": "code",
   "execution_count": 106,
   "metadata": {},
   "outputs": [
    {
     "data": {
      "text/html": [
       "<div>\n",
       "<style scoped>\n",
       "    .dataframe tbody tr th:only-of-type {\n",
       "        vertical-align: middle;\n",
       "    }\n",
       "\n",
       "    .dataframe tbody tr th {\n",
       "        vertical-align: top;\n",
       "    }\n",
       "\n",
       "    .dataframe thead th {\n",
       "        text-align: right;\n",
       "    }\n",
       "</style>\n",
       "<table border=\"1\" class=\"dataframe\">\n",
       "  <thead>\n",
       "    <tr style=\"text-align: right;\">\n",
       "      <th></th>\n",
       "      <th>nickname</th>\n",
       "      <th>wechat</th>\n",
       "      <th>img</th>\n",
       "    </tr>\n",
       "  </thead>\n",
       "  <tbody>\n",
       "    <tr>\n",
       "      <th>0</th>\n",
       "      <td>中大南方文传体育部</td>\n",
       "      <td>微信号：zdnfwctyb</td>\n",
       "      <td>http://mmbiz.qpic.cn/mmbiz_png/SXjwP8eTlZ6lPS2...</td>\n",
       "    </tr>\n",
       "  </tbody>\n",
       "</table>\n",
       "</div>"
      ],
      "text/plain": [
       "    nickname         wechat                                                img\n",
       "0  中大南方文传体育部  微信号：zdnfwctyb  http://mmbiz.qpic.cn/mmbiz_png/SXjwP8eTlZ6lPS2..."
      ]
     },
     "execution_count": 106,
     "metadata": {},
     "output_type": "execute_result"
    }
   ],
   "source": [
    "df_account"
   ]
  },
  {
   "cell_type": "code",
   "execution_count": 107,
   "metadata": {},
   "outputs": [
    {
     "name": "stdout",
     "output_type": "stream",
     "text": [
      "<div class=\"weui-desktop-vm_primary\"><img src=\"http://mmbiz.qpic.cn/mmbiz_png/SXjwP8eTlZ6lPS2esEWzRvu11lkaMxib2cYiaib7cUTl6Zks8OwZov5khsibI0XWEJmFuWteFvAut3qcO22Mx4xiatQ/0?wx_fmt=png\" class=\"inner_link_account_avatar\"> <strong class=\"inner_link_account_nickname\">中大南方文传体育部</strong> <i class=\"inner_link_account_wechat\">微信号：zdnfwctyb</i></div> <div class=\"weui-desktop-vm_default inner_link_account_type\">订阅号</div>\n"
     ]
    }
   ],
   "source": [
    "element = driver.find_element_by_xpath('//ul[@class=\"inner_link_account_list\"]/li')\n",
    "main_content = element.get_attribute('innerHTML')\n",
    "print(main_content)\n",
    "element.click()"
   ]
  },
  {
   "cell_type": "code",
   "execution_count": 108,
   "metadata": {},
   "outputs": [
    {
     "data": {
      "text/plain": [
       "'\\n跳转_input = driver.find_element_by_xpath(\\'//span[@class=\"weui-desktop-pagination__form\"]/input\\')\\n跳转_a = driver.find_element_by_xpath(\\'//span[@class=\"weui-desktop-pagination__form\"]/a\\')\\n跳转_input.clear()\\n跳转_input.send_keys(2)\\n跳转_a.click()\\n'"
      ]
     },
     "execution_count": 108,
     "metadata": {},
     "output_type": "execute_result"
    }
   ],
   "source": [
    "# 跳转testing\n",
    "'''\n",
    "跳转_input = driver.find_element_by_xpath('//span[@class=\"weui-desktop-pagination__form\"]/input')\n",
    "跳转_a = driver.find_element_by_xpath('//span[@class=\"weui-desktop-pagination__form\"]/a')\n",
    "跳转_input.clear()\n",
    "跳转_input.send_keys(2)\n",
    "跳转_a.click()\n",
    "'''"
   ]
  },
  {
   "cell_type": "code",
   "execution_count": 109,
   "metadata": {},
   "outputs": [
    {
     "name": "stdout",
     "output_type": "stream",
     "text": [
      "[1, 6]\n",
      "False\n"
     ]
    }
   ],
   "source": [
    "# 跳转上限\n",
    "l_e = driver.find_elements_by_xpath('//label[@class=\"weui-desktop-pagination__num\"]')\n",
    "l_e_int  = [int(x.text) for x in l_e] \n",
    "print (l_e_int)\n",
    "print (l_e_int[0]==l_e_int[-1])"
   ]
  },
  {
   "cell_type": "code",
   "execution_count": 110,
   "metadata": {},
   "outputs": [
    {
     "name": "stdout",
     "output_type": "stream",
     "text": [
      "[1, 2, 3, 4, 5, 6]\n"
     ]
    }
   ],
   "source": [
    "pages = list(range(l_e_int[0],l_e_int[-1]+1 ))\n",
    "#print(pages[0:2])\n",
    "pages = list(range(1,l_e_int[-1]+1 ))\n",
    "print(pages)"
   ]
  },
  {
   "cell_type": "markdown",
   "metadata": {},
   "source": [
    "## 循环/遍历"
   ]
  },
  {
   "cell_type": "code",
   "execution_count": 111,
   "metadata": {},
   "outputs": [],
   "source": [
    "# global varialbes \n",
    "html_raw = dict()\n",
    "main_content =\"\"\n",
    "element = None"
   ]
  },
  {
   "cell_type": "code",
   "execution_count": 112,
   "metadata": {},
   "outputs": [],
   "source": [
    "def process_pages (pages):\n",
    "    for p in pages:\n",
    "        print (p,end='\\t')\n",
    "\n",
    "        跳转_input = driver.find_element_by_xpath('//span[@class=\"weui-desktop-pagination__form\"]/input')\n",
    "        跳转_a = driver.find_element_by_xpath('//span[@class=\"weui-desktop-pagination__form\"]/a')\n",
    "        跳转_input.clear()\n",
    "        跳转_input.send_keys(p)\n",
    "        跳转_a.click()\n",
    "\n",
    "        time.sleep(45+120*random())\n",
    "\n",
    "        element = driver.find_element_by_xpath('//div[@class=\"inner_link_article_list\"]')\n",
    "        main_content = element.get_attribute('innerHTML')\n",
    "        #print(main_content)\n",
    "        html_raw[p] = main_content"
   ]
  },
  {
   "cell_type": "code",
   "execution_count": 113,
   "metadata": {},
   "outputs": [
    {
     "name": "stdout",
     "output_type": "stream",
     "text": [
      "1\t2\t3\t4\t5\t6\t"
     ]
    }
   ],
   "source": [
    "process_pages(pages)"
   ]
  },
  {
   "cell_type": "code",
   "execution_count": 114,
   "metadata": {},
   "outputs": [
    {
     "data": {
      "text/html": [
       "<div>\n",
       "<style scoped>\n",
       "    .dataframe tbody tr th:only-of-type {\n",
       "        vertical-align: middle;\n",
       "    }\n",
       "\n",
       "    .dataframe tbody tr th {\n",
       "        vertical-align: top;\n",
       "    }\n",
       "\n",
       "    .dataframe thead th {\n",
       "        text-align: right;\n",
       "    }\n",
       "</style>\n",
       "<table border=\"1\" class=\"dataframe\">\n",
       "  <thead>\n",
       "    <tr style=\"text-align: right;\">\n",
       "      <th></th>\n",
       "      <th>html_snippets</th>\n",
       "    </tr>\n",
       "  </thead>\n",
       "  <tbody>\n",
       "    <tr>\n",
       "      <th>1</th>\n",
       "      <td>&lt;div&gt;&lt;label class=\"inner_link_article_item\"&gt;&lt;s...</td>\n",
       "    </tr>\n",
       "    <tr>\n",
       "      <th>2</th>\n",
       "      <td>&lt;div&gt;&lt;label class=\"inner_link_article_item\"&gt;&lt;s...</td>\n",
       "    </tr>\n",
       "    <tr>\n",
       "      <th>3</th>\n",
       "      <td>&lt;div&gt;&lt;label class=\"inner_link_article_item\"&gt;&lt;s...</td>\n",
       "    </tr>\n",
       "    <tr>\n",
       "      <th>4</th>\n",
       "      <td>&lt;div&gt;&lt;label class=\"inner_link_article_item\"&gt;&lt;s...</td>\n",
       "    </tr>\n",
       "    <tr>\n",
       "      <th>5</th>\n",
       "      <td>&lt;div&gt;&lt;label class=\"inner_link_article_item\"&gt;&lt;s...</td>\n",
       "    </tr>\n",
       "    <tr>\n",
       "      <th>6</th>\n",
       "      <td>&lt;div&gt;&lt;label class=\"inner_link_article_item\"&gt;&lt;s...</td>\n",
       "    </tr>\n",
       "  </tbody>\n",
       "</table>\n",
       "</div>"
      ],
      "text/plain": [
       "                                       html_snippets\n",
       "1  <div><label class=\"inner_link_article_item\"><s...\n",
       "2  <div><label class=\"inner_link_article_item\"><s...\n",
       "3  <div><label class=\"inner_link_article_item\"><s...\n",
       "4  <div><label class=\"inner_link_article_item\"><s...\n",
       "5  <div><label class=\"inner_link_article_item\"><s...\n",
       "6  <div><label class=\"inner_link_article_item\"><s..."
      ]
     },
     "execution_count": 114,
     "metadata": {},
     "output_type": "execute_result"
    }
   ],
   "source": [
    "df = pd.DataFrame([html_raw]).T\n",
    "df.columns = [\"html_snippets\"]\n",
    "df"
   ]
  },
  {
   "cell_type": "code",
   "execution_count": 115,
   "metadata": {},
   "outputs": [
    {
     "name": "stdout",
     "output_type": "stream",
     "text": [
      "Stored 'html_raw' (dict)\n"
     ]
    }
   ],
   "source": [
    "%store html_raw\n",
    "import pickle \n",
    "filehandler = open(\"html_raw\", 'wb') \n",
    "pickle.dump(html_raw, filehandler)"
   ]
  },
  {
   "cell_type": "code",
   "execution_count": 116,
   "metadata": {},
   "outputs": [
    {
     "name": "stdout",
     "output_type": "stream",
     "text": [
      "5\n"
     ]
    },
    {
     "data": {
      "text/html": [
       "<div>\n",
       "<style scoped>\n",
       "    .dataframe tbody tr th:only-of-type {\n",
       "        vertical-align: middle;\n",
       "    }\n",
       "\n",
       "    .dataframe tbody tr th {\n",
       "        vertical-align: top;\n",
       "    }\n",
       "\n",
       "    .dataframe thead th {\n",
       "        text-align: right;\n",
       "    }\n",
       "</style>\n",
       "<table border=\"1\" class=\"dataframe\">\n",
       "  <thead>\n",
       "    <tr style=\"text-align: right;\">\n",
       "      <th></th>\n",
       "      <th>html_snippets</th>\n",
       "    </tr>\n",
       "  </thead>\n",
       "  <tbody>\n",
       "    <tr>\n",
       "      <th>6</th>\n",
       "      <td>&lt;div&gt;&lt;label class=\"inner_link_article_item\"&gt;&lt;s...</td>\n",
       "    </tr>\n",
       "  </tbody>\n",
       "</table>\n",
       "</div>"
      ],
      "text/plain": [
       "                                       html_snippets\n",
       "6  <div><label class=\"inner_link_article_item\"><s..."
      ]
     },
     "execution_count": 116,
     "metadata": {},
     "output_type": "execute_result"
    }
   ],
   "source": [
    "df_out = df[~df.duplicated()]\n",
    "print (len(df_out))\n",
    "df[df.duplicated()]"
   ]
  },
  {
   "cell_type": "code",
   "execution_count": 117,
   "metadata": {},
   "outputs": [
    {
     "name": "stdout",
     "output_type": "stream",
     "text": [
      "[6]\n"
     ]
    },
    {
     "data": {
      "text/plain": [
       "[6]"
      ]
     },
     "execution_count": 117,
     "metadata": {},
     "output_type": "execute_result"
    }
   ],
   "source": [
    "try_again = list(df[df.duplicated()].index)\n",
    "print(try_again)\n",
    "try_again = try_again + list (set(pages).difference(set(df.index.values)))\n",
    "try_again"
   ]
  },
  {
   "cell_type": "markdown",
   "metadata": {},
   "source": [
    "## 暂存档"
   ]
  },
  {
   "cell_type": "code",
   "execution_count": 135,
   "metadata": {},
   "outputs": [],
   "source": [
    "filename = fn [\"output\"] [\"公众号_htm_snippets\"] \n",
    "df_out.to_csv(filename.format(公众号=公众号), sep=\"\\t\", encoding=\"utf8\")"
   ]
  },
  {
   "cell_type": "code",
   "execution_count": 121,
   "metadata": {},
   "outputs": [
    {
     "name": "stdout",
     "output_type": "stream",
     "text": [
      "5,5,5,5,6,5,"
     ]
    }
   ],
   "source": [
    "def parse_html_snippets(_snippet_):\n",
    "    root = fromstring(_snippet_) \n",
    "    title = [x.text for x in root.xpath('//div[@class=\"inner_link_article_title\"]')]\n",
    "    create_time = [x.text for x in root.xpath('//div[@class=\"inner_link_article_date\"]')]\n",
    "    link = [x for x in root.xpath('//a/@href')]\n",
    "    _df_ = pd.DataFrame({\"title\":title, \"create_time\": create_time, \"link\":link})\n",
    "    return(_df_)\n",
    "    \n",
    "l_df = []\n",
    "for p in pages:\n",
    "    _df_ = parse_html_snippets(df.loc[p,\"html_snippets\"])\n",
    "    print (len(_df_), end=\",\")\n",
    "    l_df.append(_df_)"
   ]
  },
  {
   "cell_type": "code",
   "execution_count": 122,
   "metadata": {},
   "outputs": [
    {
     "data": {
      "text/html": [
       "<div>\n",
       "<style scoped>\n",
       "    .dataframe tbody tr th:only-of-type {\n",
       "        vertical-align: middle;\n",
       "    }\n",
       "\n",
       "    .dataframe tbody tr th {\n",
       "        vertical-align: top;\n",
       "    }\n",
       "\n",
       "    .dataframe thead th {\n",
       "        text-align: right;\n",
       "    }\n",
       "</style>\n",
       "<table border=\"1\" class=\"dataframe\">\n",
       "  <thead>\n",
       "    <tr style=\"text-align: right;\">\n",
       "      <th></th>\n",
       "      <th>title</th>\n",
       "      <th>create_time</th>\n",
       "      <th>link</th>\n",
       "    </tr>\n",
       "  </thead>\n",
       "  <tbody>\n",
       "    <tr>\n",
       "      <th>0</th>\n",
       "      <td>迎体育盛会，展文传风采——文学与传媒学院第七届体育嘉年华圆满落幕</td>\n",
       "      <td>2019-10-30</td>\n",
       "      <td>http://mp.weixin.qq.com/s?__biz=MzU5NDU0NTIzMQ...</td>\n",
       "    </tr>\n",
       "    <tr>\n",
       "      <th>1</th>\n",
       "      <td>公示 | 文学与传媒学院第七届体育嘉年华各项比赛成绩及奖项</td>\n",
       "      <td>2019-10-29</td>\n",
       "      <td>http://mp.weixin.qq.com/s?__biz=MzU5NDU0NTIzMQ...</td>\n",
       "    </tr>\n",
       "    <tr>\n",
       "      <th>2</th>\n",
       "      <td>焕新 | “ 害! 我们这不就来了吗！”</td>\n",
       "      <td>2019-10-21</td>\n",
       "      <td>http://mp.weixin.qq.com/s?__biz=MzU5NDU0NTIzMQ...</td>\n",
       "    </tr>\n",
       "    <tr>\n",
       "      <th>3</th>\n",
       "      <td>赛程 | 拔河比赛晋级半决赛11强名单及赛程安排</td>\n",
       "      <td>2019-10-16</td>\n",
       "      <td>http://mp.weixin.qq.com/s?__biz=MzU5NDU0NTIzMQ...</td>\n",
       "    </tr>\n",
       "    <tr>\n",
       "      <th>4</th>\n",
       "      <td>赛程 |  体育嘉年华预赛相关赛程安排</td>\n",
       "      <td>2019-10-14</td>\n",
       "      <td>http://mp.weixin.qq.com/s?__biz=MzU5NDU0NTIzMQ...</td>\n",
       "    </tr>\n",
       "    <tr>\n",
       "      <th>5</th>\n",
       "      <td>第十一届“青出于篮”篮球专业赛</td>\n",
       "      <td>2018-04-20</td>\n",
       "      <td>http://mp.weixin.qq.com/s?__biz=MzU5NDU0NTIzMQ...</td>\n",
       "    </tr>\n",
       "    <tr>\n",
       "      <th>6</th>\n",
       "      <td>第十一届“青出于篮”篮球专业赛</td>\n",
       "      <td>2018-04-18</td>\n",
       "      <td>http://mp.weixin.qq.com/s?__biz=MzU5NDU0NTIzMQ...</td>\n",
       "    </tr>\n",
       "    <tr>\n",
       "      <th>7</th>\n",
       "      <td>第十一届“青出于篮”篮球专业赛</td>\n",
       "      <td>2018-04-14</td>\n",
       "      <td>http://mp.weixin.qq.com/s?__biz=MzU5NDU0NTIzMQ...</td>\n",
       "    </tr>\n",
       "    <tr>\n",
       "      <th>8</th>\n",
       "      <td>第十一届“青出于篮”篮球专业赛</td>\n",
       "      <td>2018-04-14</td>\n",
       "      <td>http://mp.weixin.qq.com/s?__biz=MzU5NDU0NTIzMQ...</td>\n",
       "    </tr>\n",
       "    <tr>\n",
       "      <th>9</th>\n",
       "      <td>第十一届“青出于篮”篮球专业赛||你来看了吗？</td>\n",
       "      <td>2018-04-13</td>\n",
       "      <td>http://mp.weixin.qq.com/s?__biz=MzU5NDU0NTIzMQ...</td>\n",
       "    </tr>\n",
       "    <tr>\n",
       "      <th>10</th>\n",
       "      <td>第十二届“青出于篮”各专业篮球竞赛第四场</td>\n",
       "      <td>2019-04-06</td>\n",
       "      <td>http://mp.weixin.qq.com/s?__biz=MzU5NDU0NTIzMQ...</td>\n",
       "    </tr>\n",
       "  </tbody>\n",
       "</table>\n",
       "</div>"
      ],
      "text/plain": [
       "                               title create_time  \\\n",
       "0   迎体育盛会，展文传风采——文学与传媒学院第七届体育嘉年华圆满落幕  2019-10-30   \n",
       "1      公示 | 文学与传媒学院第七届体育嘉年华各项比赛成绩及奖项  2019-10-29   \n",
       "2               焕新 | “ 害! 我们这不就来了吗！”  2019-10-21   \n",
       "3           赛程 | 拔河比赛晋级半决赛11强名单及赛程安排  2019-10-16   \n",
       "4                赛程 |  体育嘉年华预赛相关赛程安排  2019-10-14   \n",
       "5                    第十一届“青出于篮”篮球专业赛  2018-04-20   \n",
       "6                    第十一届“青出于篮”篮球专业赛  2018-04-18   \n",
       "7                    第十一届“青出于篮”篮球专业赛  2018-04-14   \n",
       "8                    第十一届“青出于篮”篮球专业赛  2018-04-14   \n",
       "9            第十一届“青出于篮”篮球专业赛||你来看了吗？  2018-04-13   \n",
       "10              第十二届“青出于篮”各专业篮球竞赛第四场  2019-04-06   \n",
       "\n",
       "                                                 link  \n",
       "0   http://mp.weixin.qq.com/s?__biz=MzU5NDU0NTIzMQ...  \n",
       "1   http://mp.weixin.qq.com/s?__biz=MzU5NDU0NTIzMQ...  \n",
       "2   http://mp.weixin.qq.com/s?__biz=MzU5NDU0NTIzMQ...  \n",
       "3   http://mp.weixin.qq.com/s?__biz=MzU5NDU0NTIzMQ...  \n",
       "4   http://mp.weixin.qq.com/s?__biz=MzU5NDU0NTIzMQ...  \n",
       "5   http://mp.weixin.qq.com/s?__biz=MzU5NDU0NTIzMQ...  \n",
       "6   http://mp.weixin.qq.com/s?__biz=MzU5NDU0NTIzMQ...  \n",
       "7   http://mp.weixin.qq.com/s?__biz=MzU5NDU0NTIzMQ...  \n",
       "8   http://mp.weixin.qq.com/s?__biz=MzU5NDU0NTIzMQ...  \n",
       "9   http://mp.weixin.qq.com/s?__biz=MzU5NDU0NTIzMQ...  \n",
       "10  http://mp.weixin.qq.com/s?__biz=MzU5NDU0NTIzMQ...  "
      ]
     },
     "execution_count": 122,
     "metadata": {},
     "output_type": "execute_result"
    }
   ],
   "source": [
    "df_url_out = pd.concat(l_df).reset_index(drop=True)\n",
    "df_url_out.loc[0:10]"
   ]
  },
  {
   "cell_type": "code",
   "execution_count": 123,
   "metadata": {},
   "outputs": [
    {
     "data": {
      "text/html": [
       "<div>\n",
       "<style scoped>\n",
       "    .dataframe tbody tr th:only-of-type {\n",
       "        vertical-align: middle;\n",
       "    }\n",
       "\n",
       "    .dataframe tbody tr th {\n",
       "        vertical-align: top;\n",
       "    }\n",
       "\n",
       "    .dataframe thead th {\n",
       "        text-align: right;\n",
       "    }\n",
       "</style>\n",
       "<table border=\"1\" class=\"dataframe\">\n",
       "  <thead>\n",
       "    <tr style=\"text-align: right;\">\n",
       "      <th></th>\n",
       "      <th>title</th>\n",
       "      <th>create_time</th>\n",
       "      <th>link</th>\n",
       "    </tr>\n",
       "  </thead>\n",
       "  <tbody>\n",
       "    <tr>\n",
       "      <th>26</th>\n",
       "      <td>第十一届“青出于篮”篮球专业赛</td>\n",
       "      <td>2018-04-20</td>\n",
       "      <td>http://mp.weixin.qq.com/s?__biz=MzU5NDU0NTIzMQ...</td>\n",
       "    </tr>\n",
       "    <tr>\n",
       "      <th>27</th>\n",
       "      <td>第十一届“青出于篮”篮球专业赛</td>\n",
       "      <td>2018-04-18</td>\n",
       "      <td>http://mp.weixin.qq.com/s?__biz=MzU5NDU0NTIzMQ...</td>\n",
       "    </tr>\n",
       "    <tr>\n",
       "      <th>28</th>\n",
       "      <td>第十一届“青出于篮”篮球专业赛</td>\n",
       "      <td>2018-04-14</td>\n",
       "      <td>http://mp.weixin.qq.com/s?__biz=MzU5NDU0NTIzMQ...</td>\n",
       "    </tr>\n",
       "    <tr>\n",
       "      <th>29</th>\n",
       "      <td>第十一届“青出于篮”篮球专业赛</td>\n",
       "      <td>2018-04-14</td>\n",
       "      <td>http://mp.weixin.qq.com/s?__biz=MzU5NDU0NTIzMQ...</td>\n",
       "    </tr>\n",
       "    <tr>\n",
       "      <th>30</th>\n",
       "      <td>第十一届“青出于篮”篮球专业赛||你来看了吗？</td>\n",
       "      <td>2018-04-13</td>\n",
       "      <td>http://mp.weixin.qq.com/s?__biz=MzU5NDU0NTIzMQ...</td>\n",
       "    </tr>\n",
       "  </tbody>\n",
       "</table>\n",
       "</div>"
      ],
      "text/plain": [
       "                      title create_time  \\\n",
       "26          第十一届“青出于篮”篮球专业赛  2018-04-20   \n",
       "27          第十一届“青出于篮”篮球专业赛  2018-04-18   \n",
       "28          第十一届“青出于篮”篮球专业赛  2018-04-14   \n",
       "29          第十一届“青出于篮”篮球专业赛  2018-04-14   \n",
       "30  第十一届“青出于篮”篮球专业赛||你来看了吗？  2018-04-13   \n",
       "\n",
       "                                                 link  \n",
       "26  http://mp.weixin.qq.com/s?__biz=MzU5NDU0NTIzMQ...  \n",
       "27  http://mp.weixin.qq.com/s?__biz=MzU5NDU0NTIzMQ...  \n",
       "28  http://mp.weixin.qq.com/s?__biz=MzU5NDU0NTIzMQ...  \n",
       "29  http://mp.weixin.qq.com/s?__biz=MzU5NDU0NTIzMQ...  \n",
       "30  http://mp.weixin.qq.com/s?__biz=MzU5NDU0NTIzMQ...  "
      ]
     },
     "execution_count": 123,
     "metadata": {},
     "output_type": "execute_result"
    }
   ],
   "source": [
    "df_url_out.tail(5)"
   ]
  },
  {
   "cell_type": "code",
   "execution_count": 124,
   "metadata": {},
   "outputs": [
    {
     "data": {
      "text/html": [
       "<div>\n",
       "<style scoped>\n",
       "    .dataframe tbody tr th:only-of-type {\n",
       "        vertical-align: middle;\n",
       "    }\n",
       "\n",
       "    .dataframe tbody tr th {\n",
       "        vertical-align: top;\n",
       "    }\n",
       "\n",
       "    .dataframe thead th {\n",
       "        text-align: right;\n",
       "    }\n",
       "</style>\n",
       "<table border=\"1\" class=\"dataframe\">\n",
       "  <thead>\n",
       "    <tr style=\"text-align: right;\">\n",
       "      <th></th>\n",
       "      <th>title</th>\n",
       "      <th>create_time</th>\n",
       "      <th>link</th>\n",
       "    </tr>\n",
       "    <tr>\n",
       "      <th>value</th>\n",
       "      <th></th>\n",
       "      <th></th>\n",
       "      <th></th>\n",
       "    </tr>\n",
       "  </thead>\n",
       "  <tbody>\n",
       "    <tr>\n",
       "      <th>2</th>\n",
       "      <td>焕新 | “ 害! 我们这不就来了吗！”</td>\n",
       "      <td>2019-10-21</td>\n",
       "      <td>http://mp.weixin.qq.com/s?__biz=MzU5NDU0NTIzMQ...</td>\n",
       "    </tr>\n",
       "    <tr>\n",
       "      <th>3</th>\n",
       "      <td>赛程 | 拔河比赛晋级半决赛11强名单及赛程安排</td>\n",
       "      <td>2019-10-16</td>\n",
       "      <td>http://mp.weixin.qq.com/s?__biz=MzU5NDU0NTIzMQ...</td>\n",
       "    </tr>\n",
       "    <tr>\n",
       "      <th>17</th>\n",
       "      <td>分享图片</td>\n",
       "      <td>2018-10-24</td>\n",
       "      <td>http://mp.weixin.qq.com/s?__biz=MzU5NDU0NTIzMQ...</td>\n",
       "    </tr>\n",
       "    <tr>\n",
       "      <th>18</th>\n",
       "      <td>分享图片</td>\n",
       "      <td>2018-10-16</td>\n",
       "      <td>http://mp.weixin.qq.com/s?__biz=MzU5NDU0NTIzMQ...</td>\n",
       "    </tr>\n",
       "    <tr>\n",
       "      <th>19</th>\n",
       "      <td>大件事啦！拔河比赛来啦！</td>\n",
       "      <td>2018-10-15</td>\n",
       "      <td>http://mp.weixin.qq.com/s?__biz=MzU5NDU0NTIzMQ...</td>\n",
       "    </tr>\n",
       "    <tr>\n",
       "      <th>22</th>\n",
       "      <td>关于最有价值球员奖项的公告！</td>\n",
       "      <td>2018-05-18</td>\n",
       "      <td>http://mp.weixin.qq.com/s?__biz=MzU5NDU0NTIzMQ...</td>\n",
       "    </tr>\n",
       "  </tbody>\n",
       "</table>\n",
       "</div>"
      ],
      "text/plain": [
       "                          title create_time  \\\n",
       "value                                         \n",
       "2          焕新 | “ 害! 我们这不就来了吗！”  2019-10-21   \n",
       "3      赛程 | 拔河比赛晋级半决赛11强名单及赛程安排  2019-10-16   \n",
       "17                         分享图片  2018-10-24   \n",
       "18                         分享图片  2018-10-16   \n",
       "19                 大件事啦！拔河比赛来啦！  2018-10-15   \n",
       "22               关于最有价值球员奖项的公告！  2018-05-18   \n",
       "\n",
       "                                                    link  \n",
       "value                                                     \n",
       "2      http://mp.weixin.qq.com/s?__biz=MzU5NDU0NTIzMQ...  \n",
       "3      http://mp.weixin.qq.com/s?__biz=MzU5NDU0NTIzMQ...  \n",
       "17     http://mp.weixin.qq.com/s?__biz=MzU5NDU0NTIzMQ...  \n",
       "18     http://mp.weixin.qq.com/s?__biz=MzU5NDU0NTIzMQ...  \n",
       "19     http://mp.weixin.qq.com/s?__biz=MzU5NDU0NTIzMQ...  \n",
       "22     http://mp.weixin.qq.com/s?__biz=MzU5NDU0NTIzMQ...  "
      ]
     },
     "execution_count": 124,
     "metadata": {},
     "output_type": "execute_result"
    }
   ],
   "source": [
    "# tagging 标记\n",
    "tagging_list = [\"\",\"篮球\", \"体育\", \"文传\",\"WeChat\",\\\n",
    "                \"基建\",\"新基建\"] #overwritable\n",
    "\n",
    "v_v_list = []\n",
    "\n",
    "for tag in tagging_list:\n",
    "    index_list = df_url_out [ df_url_out.title.str.contains(tag) ].index.tolist()\n",
    "    v_v_pairs = pd.DataFrame({tag:index_list}).melt().set_index(\"value\")\n",
    "    v_v_list.append(v_v_pairs)\n",
    "\n",
    "df_cat = v_v_list[0]\n",
    "for d in v_v_list:\n",
    "    df_cat.update(d)\n",
    "    \n",
    "# 尚未标记内容\n",
    "df_url_out.loc [ df_cat.query('variable==\"\"').index ]"
   ]
  },
  {
   "cell_type": "raw",
   "metadata": {},
   "source": [
    "df_url_out.loc[53].link"
   ]
  },
  {
   "cell_type": "code",
   "execution_count": 125,
   "metadata": {},
   "outputs": [
    {
     "data": {
      "text/html": [
       "<div>\n",
       "<style scoped>\n",
       "    .dataframe tbody tr th:only-of-type {\n",
       "        vertical-align: middle;\n",
       "    }\n",
       "\n",
       "    .dataframe tbody tr th {\n",
       "        vertical-align: top;\n",
       "    }\n",
       "\n",
       "    .dataframe thead th {\n",
       "        text-align: right;\n",
       "    }\n",
       "</style>\n",
       "<table border=\"1\" class=\"dataframe\">\n",
       "  <thead>\n",
       "    <tr style=\"text-align: right;\">\n",
       "      <th></th>\n",
       "      <th>title</th>\n",
       "      <th>create_time</th>\n",
       "      <th>link</th>\n",
       "    </tr>\n",
       "  </thead>\n",
       "  <tbody>\n",
       "    <tr>\n",
       "      <th>26</th>\n",
       "      <td>第十一届“青出于篮”篮球专业赛</td>\n",
       "      <td>2018-04-20</td>\n",
       "      <td>http://mp.weixin.qq.com/s?__biz=MzU5NDU0NTIzMQ...</td>\n",
       "    </tr>\n",
       "    <tr>\n",
       "      <th>27</th>\n",
       "      <td>第十一届“青出于篮”篮球专业赛</td>\n",
       "      <td>2018-04-18</td>\n",
       "      <td>http://mp.weixin.qq.com/s?__biz=MzU5NDU0NTIzMQ...</td>\n",
       "    </tr>\n",
       "    <tr>\n",
       "      <th>28</th>\n",
       "      <td>第十一届“青出于篮”篮球专业赛</td>\n",
       "      <td>2018-04-14</td>\n",
       "      <td>http://mp.weixin.qq.com/s?__biz=MzU5NDU0NTIzMQ...</td>\n",
       "    </tr>\n",
       "    <tr>\n",
       "      <th>29</th>\n",
       "      <td>第十一届“青出于篮”篮球专业赛</td>\n",
       "      <td>2018-04-14</td>\n",
       "      <td>http://mp.weixin.qq.com/s?__biz=MzU5NDU0NTIzMQ...</td>\n",
       "    </tr>\n",
       "    <tr>\n",
       "      <th>30</th>\n",
       "      <td>第十一届“青出于篮”篮球专业赛||你来看了吗？</td>\n",
       "      <td>2018-04-13</td>\n",
       "      <td>http://mp.weixin.qq.com/s?__biz=MzU5NDU0NTIzMQ...</td>\n",
       "    </tr>\n",
       "  </tbody>\n",
       "</table>\n",
       "</div>"
      ],
      "text/plain": [
       "                      title create_time  \\\n",
       "26          第十一届“青出于篮”篮球专业赛  2018-04-20   \n",
       "27          第十一届“青出于篮”篮球专业赛  2018-04-18   \n",
       "28          第十一届“青出于篮”篮球专业赛  2018-04-14   \n",
       "29          第十一届“青出于篮”篮球专业赛  2018-04-14   \n",
       "30  第十一届“青出于篮”篮球专业赛||你来看了吗？  2018-04-13   \n",
       "\n",
       "                                                 link  \n",
       "26  http://mp.weixin.qq.com/s?__biz=MzU5NDU0NTIzMQ...  \n",
       "27  http://mp.weixin.qq.com/s?__biz=MzU5NDU0NTIzMQ...  \n",
       "28  http://mp.weixin.qq.com/s?__biz=MzU5NDU0NTIzMQ...  \n",
       "29  http://mp.weixin.qq.com/s?__biz=MzU5NDU0NTIzMQ...  \n",
       "30  http://mp.weixin.qq.com/s?__biz=MzU5NDU0NTIzMQ...  "
      ]
     },
     "execution_count": 125,
     "metadata": {},
     "output_type": "execute_result"
    }
   ],
   "source": [
    "df_url_out[df_url_out.duplicated()]"
   ]
  },
  {
   "cell_type": "code",
   "execution_count": 126,
   "metadata": {},
   "outputs": [
    {
     "data": {
      "text/html": [
       "<div>\n",
       "<style scoped>\n",
       "    .dataframe tbody tr th:only-of-type {\n",
       "        vertical-align: middle;\n",
       "    }\n",
       "\n",
       "    .dataframe tbody tr th {\n",
       "        vertical-align: top;\n",
       "    }\n",
       "\n",
       "    .dataframe thead th {\n",
       "        text-align: right;\n",
       "    }\n",
       "</style>\n",
       "<table border=\"1\" class=\"dataframe\">\n",
       "  <thead>\n",
       "    <tr style=\"text-align: right;\">\n",
       "      <th></th>\n",
       "      <th>title</th>\n",
       "      <th>create_time</th>\n",
       "      <th>link</th>\n",
       "    </tr>\n",
       "  </thead>\n",
       "  <tbody>\n",
       "    <tr>\n",
       "      <th>0</th>\n",
       "      <td>迎体育盛会，展文传风采——文学与传媒学院第七届体育嘉年华圆满落幕</td>\n",
       "      <td>2019-10-30</td>\n",
       "      <td>http://mp.weixin.qq.com/s?__biz=MzU5NDU0NTIzMQ...</td>\n",
       "    </tr>\n",
       "    <tr>\n",
       "      <th>1</th>\n",
       "      <td>公示 | 文学与传媒学院第七届体育嘉年华各项比赛成绩及奖项</td>\n",
       "      <td>2019-10-29</td>\n",
       "      <td>http://mp.weixin.qq.com/s?__biz=MzU5NDU0NTIzMQ...</td>\n",
       "    </tr>\n",
       "    <tr>\n",
       "      <th>2</th>\n",
       "      <td>焕新 | “ 害! 我们这不就来了吗！”</td>\n",
       "      <td>2019-10-21</td>\n",
       "      <td>http://mp.weixin.qq.com/s?__biz=MzU5NDU0NTIzMQ...</td>\n",
       "    </tr>\n",
       "    <tr>\n",
       "      <th>3</th>\n",
       "      <td>赛程 | 拔河比赛晋级半决赛11强名单及赛程安排</td>\n",
       "      <td>2019-10-16</td>\n",
       "      <td>http://mp.weixin.qq.com/s?__biz=MzU5NDU0NTIzMQ...</td>\n",
       "    </tr>\n",
       "    <tr>\n",
       "      <th>4</th>\n",
       "      <td>赛程 |  体育嘉年华预赛相关赛程安排</td>\n",
       "      <td>2019-10-14</td>\n",
       "      <td>http://mp.weixin.qq.com/s?__biz=MzU5NDU0NTIzMQ...</td>\n",
       "    </tr>\n",
       "    <tr>\n",
       "      <th>5</th>\n",
       "      <td>第十一届“青出于篮”篮球专业赛</td>\n",
       "      <td>2018-04-20</td>\n",
       "      <td>http://mp.weixin.qq.com/s?__biz=MzU5NDU0NTIzMQ...</td>\n",
       "    </tr>\n",
       "    <tr>\n",
       "      <th>6</th>\n",
       "      <td>第十一届“青出于篮”篮球专业赛</td>\n",
       "      <td>2018-04-18</td>\n",
       "      <td>http://mp.weixin.qq.com/s?__biz=MzU5NDU0NTIzMQ...</td>\n",
       "    </tr>\n",
       "    <tr>\n",
       "      <th>7</th>\n",
       "      <td>第十一届“青出于篮”篮球专业赛</td>\n",
       "      <td>2018-04-14</td>\n",
       "      <td>http://mp.weixin.qq.com/s?__biz=MzU5NDU0NTIzMQ...</td>\n",
       "    </tr>\n",
       "    <tr>\n",
       "      <th>8</th>\n",
       "      <td>第十一届“青出于篮”篮球专业赛</td>\n",
       "      <td>2018-04-14</td>\n",
       "      <td>http://mp.weixin.qq.com/s?__biz=MzU5NDU0NTIzMQ...</td>\n",
       "    </tr>\n",
       "    <tr>\n",
       "      <th>9</th>\n",
       "      <td>第十一届“青出于篮”篮球专业赛||你来看了吗？</td>\n",
       "      <td>2018-04-13</td>\n",
       "      <td>http://mp.weixin.qq.com/s?__biz=MzU5NDU0NTIzMQ...</td>\n",
       "    </tr>\n",
       "    <tr>\n",
       "      <th>10</th>\n",
       "      <td>第十二届“青出于篮”各专业篮球竞赛第四场</td>\n",
       "      <td>2019-04-06</td>\n",
       "      <td>http://mp.weixin.qq.com/s?__biz=MzU5NDU0NTIzMQ...</td>\n",
       "    </tr>\n",
       "    <tr>\n",
       "      <th>11</th>\n",
       "      <td>第十二届“青出于篮”各专业篮球竞赛第三场</td>\n",
       "      <td>2019-03-29</td>\n",
       "      <td>http://mp.weixin.qq.com/s?__biz=MzU5NDU0NTIzMQ...</td>\n",
       "    </tr>\n",
       "    <tr>\n",
       "      <th>12</th>\n",
       "      <td>第十二届“青出于篮”各专业篮球竞赛第二场</td>\n",
       "      <td>2019-03-27</td>\n",
       "      <td>http://mp.weixin.qq.com/s?__biz=MzU5NDU0NTIzMQ...</td>\n",
       "    </tr>\n",
       "    <tr>\n",
       "      <th>13</th>\n",
       "      <td>第十二届“青出于篮”各专业篮球竞赛</td>\n",
       "      <td>2019-03-24</td>\n",
       "      <td>http://mp.weixin.qq.com/s?__biz=MzU5NDU0NTIzMQ...</td>\n",
       "    </tr>\n",
       "    <tr>\n",
       "      <th>14</th>\n",
       "      <td>第十二届“青出于蓝”篮球专业赛</td>\n",
       "      <td>2019-03-24</td>\n",
       "      <td>http://mp.weixin.qq.com/s?__biz=MzU5NDU0NTIzMQ...</td>\n",
       "    </tr>\n",
       "    <tr>\n",
       "      <th>15</th>\n",
       "      <td>篮球专业赛 | 或许，你喜欢篮球吗？</td>\n",
       "      <td>2019-03-17</td>\n",
       "      <td>http://mp.weixin.qq.com/s?__biz=MzU5NDU0NTIzMQ...</td>\n",
       "    </tr>\n",
       "    <tr>\n",
       "      <th>16</th>\n",
       "      <td>介绍｜哦嚯~是体育部诶!</td>\n",
       "      <td>2018-10-30</td>\n",
       "      <td>http://mp.weixin.qq.com/s?__biz=MzU5NDU0NTIzMQ...</td>\n",
       "    </tr>\n",
       "    <tr>\n",
       "      <th>17</th>\n",
       "      <td>分享图片</td>\n",
       "      <td>2018-10-24</td>\n",
       "      <td>http://mp.weixin.qq.com/s?__biz=MzU5NDU0NTIzMQ...</td>\n",
       "    </tr>\n",
       "    <tr>\n",
       "      <th>18</th>\n",
       "      <td>分享图片</td>\n",
       "      <td>2018-10-16</td>\n",
       "      <td>http://mp.weixin.qq.com/s?__biz=MzU5NDU0NTIzMQ...</td>\n",
       "    </tr>\n",
       "    <tr>\n",
       "      <th>19</th>\n",
       "      <td>大件事啦！拔河比赛来啦！</td>\n",
       "      <td>2018-10-15</td>\n",
       "      <td>http://mp.weixin.qq.com/s?__biz=MzU5NDU0NTIzMQ...</td>\n",
       "    </tr>\n",
       "    <tr>\n",
       "      <th>20</th>\n",
       "      <td>篮球永不熄，青春不谢幕</td>\n",
       "      <td>2018-06-20</td>\n",
       "      <td>http://mp.weixin.qq.com/s?__biz=MzU5NDU0NTIzMQ...</td>\n",
       "    </tr>\n",
       "    <tr>\n",
       "      <th>21</th>\n",
       "      <td>第十一届“青出于篮”各专业篮球竞赛落下帷幕</td>\n",
       "      <td>2018-05-18</td>\n",
       "      <td>http://mp.weixin.qq.com/s?__biz=MzU5NDU0NTIzMQ...</td>\n",
       "    </tr>\n",
       "    <tr>\n",
       "      <th>22</th>\n",
       "      <td>关于最有价值球员奖项的公告！</td>\n",
       "      <td>2018-05-18</td>\n",
       "      <td>http://mp.weixin.qq.com/s?__biz=MzU5NDU0NTIzMQ...</td>\n",
       "    </tr>\n",
       "    <tr>\n",
       "      <th>23</th>\n",
       "      <td>第十一届“青出于篮”篮球专业赛</td>\n",
       "      <td>2018-04-28</td>\n",
       "      <td>http://mp.weixin.qq.com/s?__biz=MzU5NDU0NTIzMQ...</td>\n",
       "    </tr>\n",
       "    <tr>\n",
       "      <th>24</th>\n",
       "      <td>第十一届“青出于篮”篮球专业赛</td>\n",
       "      <td>2018-04-22</td>\n",
       "      <td>http://mp.weixin.qq.com/s?__biz=MzU5NDU0NTIzMQ...</td>\n",
       "    </tr>\n",
       "    <tr>\n",
       "      <th>25</th>\n",
       "      <td>第十一届“青出于篮”篮球专业赛</td>\n",
       "      <td>2018-04-21</td>\n",
       "      <td>http://mp.weixin.qq.com/s?__biz=MzU5NDU0NTIzMQ...</td>\n",
       "    </tr>\n",
       "  </tbody>\n",
       "</table>\n",
       "</div>"
      ],
      "text/plain": [
       "                               title create_time  \\\n",
       "0   迎体育盛会，展文传风采——文学与传媒学院第七届体育嘉年华圆满落幕  2019-10-30   \n",
       "1      公示 | 文学与传媒学院第七届体育嘉年华各项比赛成绩及奖项  2019-10-29   \n",
       "2               焕新 | “ 害! 我们这不就来了吗！”  2019-10-21   \n",
       "3           赛程 | 拔河比赛晋级半决赛11强名单及赛程安排  2019-10-16   \n",
       "4                赛程 |  体育嘉年华预赛相关赛程安排  2019-10-14   \n",
       "5                    第十一届“青出于篮”篮球专业赛  2018-04-20   \n",
       "6                    第十一届“青出于篮”篮球专业赛  2018-04-18   \n",
       "7                    第十一届“青出于篮”篮球专业赛  2018-04-14   \n",
       "8                    第十一届“青出于篮”篮球专业赛  2018-04-14   \n",
       "9            第十一届“青出于篮”篮球专业赛||你来看了吗？  2018-04-13   \n",
       "10              第十二届“青出于篮”各专业篮球竞赛第四场  2019-04-06   \n",
       "11              第十二届“青出于篮”各专业篮球竞赛第三场  2019-03-29   \n",
       "12              第十二届“青出于篮”各专业篮球竞赛第二场  2019-03-27   \n",
       "13                 第十二届“青出于篮”各专业篮球竞赛  2019-03-24   \n",
       "14                   第十二届“青出于蓝”篮球专业赛  2019-03-24   \n",
       "15                篮球专业赛 | 或许，你喜欢篮球吗？  2019-03-17   \n",
       "16                      介绍｜哦嚯~是体育部诶!  2018-10-30   \n",
       "17                              分享图片  2018-10-24   \n",
       "18                              分享图片  2018-10-16   \n",
       "19                      大件事啦！拔河比赛来啦！  2018-10-15   \n",
       "20                       篮球永不熄，青春不谢幕  2018-06-20   \n",
       "21             第十一届“青出于篮”各专业篮球竞赛落下帷幕  2018-05-18   \n",
       "22                    关于最有价值球员奖项的公告！  2018-05-18   \n",
       "23                   第十一届“青出于篮”篮球专业赛  2018-04-28   \n",
       "24                   第十一届“青出于篮”篮球专业赛  2018-04-22   \n",
       "25                   第十一届“青出于篮”篮球专业赛  2018-04-21   \n",
       "\n",
       "                                                 link  \n",
       "0   http://mp.weixin.qq.com/s?__biz=MzU5NDU0NTIzMQ...  \n",
       "1   http://mp.weixin.qq.com/s?__biz=MzU5NDU0NTIzMQ...  \n",
       "2   http://mp.weixin.qq.com/s?__biz=MzU5NDU0NTIzMQ...  \n",
       "3   http://mp.weixin.qq.com/s?__biz=MzU5NDU0NTIzMQ...  \n",
       "4   http://mp.weixin.qq.com/s?__biz=MzU5NDU0NTIzMQ...  \n",
       "5   http://mp.weixin.qq.com/s?__biz=MzU5NDU0NTIzMQ...  \n",
       "6   http://mp.weixin.qq.com/s?__biz=MzU5NDU0NTIzMQ...  \n",
       "7   http://mp.weixin.qq.com/s?__biz=MzU5NDU0NTIzMQ...  \n",
       "8   http://mp.weixin.qq.com/s?__biz=MzU5NDU0NTIzMQ...  \n",
       "9   http://mp.weixin.qq.com/s?__biz=MzU5NDU0NTIzMQ...  \n",
       "10  http://mp.weixin.qq.com/s?__biz=MzU5NDU0NTIzMQ...  \n",
       "11  http://mp.weixin.qq.com/s?__biz=MzU5NDU0NTIzMQ...  \n",
       "12  http://mp.weixin.qq.com/s?__biz=MzU5NDU0NTIzMQ...  \n",
       "13  http://mp.weixin.qq.com/s?__biz=MzU5NDU0NTIzMQ...  \n",
       "14  http://mp.weixin.qq.com/s?__biz=MzU5NDU0NTIzMQ...  \n",
       "15  http://mp.weixin.qq.com/s?__biz=MzU5NDU0NTIzMQ...  \n",
       "16  http://mp.weixin.qq.com/s?__biz=MzU5NDU0NTIzMQ...  \n",
       "17  http://mp.weixin.qq.com/s?__biz=MzU5NDU0NTIzMQ...  \n",
       "18  http://mp.weixin.qq.com/s?__biz=MzU5NDU0NTIzMQ...  \n",
       "19  http://mp.weixin.qq.com/s?__biz=MzU5NDU0NTIzMQ...  \n",
       "20  http://mp.weixin.qq.com/s?__biz=MzU5NDU0NTIzMQ...  \n",
       "21  http://mp.weixin.qq.com/s?__biz=MzU5NDU0NTIzMQ...  \n",
       "22  http://mp.weixin.qq.com/s?__biz=MzU5NDU0NTIzMQ...  \n",
       "23  http://mp.weixin.qq.com/s?__biz=MzU5NDU0NTIzMQ...  \n",
       "24  http://mp.weixin.qq.com/s?__biz=MzU5NDU0NTIzMQ...  \n",
       "25  http://mp.weixin.qq.com/s?__biz=MzU5NDU0NTIzMQ...  "
      ]
     },
     "execution_count": 126,
     "metadata": {},
     "output_type": "execute_result"
    }
   ],
   "source": [
    "df_url_out[~df_url_out.duplicated()]"
   ]
  },
  {
   "cell_type": "code",
   "execution_count": 127,
   "metadata": {},
   "outputs": [
    {
     "data": {
      "text/html": [
       "<div>\n",
       "<style scoped>\n",
       "    .dataframe tbody tr th:only-of-type {\n",
       "        vertical-align: middle;\n",
       "    }\n",
       "\n",
       "    .dataframe tbody tr th {\n",
       "        vertical-align: top;\n",
       "    }\n",
       "\n",
       "    .dataframe thead th {\n",
       "        text-align: right;\n",
       "    }\n",
       "</style>\n",
       "<table border=\"1\" class=\"dataframe\">\n",
       "  <thead>\n",
       "    <tr style=\"text-align: right;\">\n",
       "      <th></th>\n",
       "      <th>title</th>\n",
       "      <th>create_time</th>\n",
       "      <th>link</th>\n",
       "      <th>variable</th>\n",
       "    </tr>\n",
       "  </thead>\n",
       "  <tbody>\n",
       "    <tr>\n",
       "      <th>0</th>\n",
       "      <td>迎体育盛会，展文传风采——文学与传媒学院第七届体育嘉年华圆满落幕</td>\n",
       "      <td>2019-10-30</td>\n",
       "      <td>http://mp.weixin.qq.com/s?__biz=MzU5NDU0NTIzMQ...</td>\n",
       "      <td>文传</td>\n",
       "    </tr>\n",
       "    <tr>\n",
       "      <th>1</th>\n",
       "      <td>公示 | 文学与传媒学院第七届体育嘉年华各项比赛成绩及奖项</td>\n",
       "      <td>2019-10-29</td>\n",
       "      <td>http://mp.weixin.qq.com/s?__biz=MzU5NDU0NTIzMQ...</td>\n",
       "      <td>体育</td>\n",
       "    </tr>\n",
       "    <tr>\n",
       "      <th>2</th>\n",
       "      <td>焕新 | “ 害! 我们这不就来了吗！”</td>\n",
       "      <td>2019-10-21</td>\n",
       "      <td>http://mp.weixin.qq.com/s?__biz=MzU5NDU0NTIzMQ...</td>\n",
       "      <td>无法分类</td>\n",
       "    </tr>\n",
       "    <tr>\n",
       "      <th>3</th>\n",
       "      <td>赛程 | 拔河比赛晋级半决赛11强名单及赛程安排</td>\n",
       "      <td>2019-10-16</td>\n",
       "      <td>http://mp.weixin.qq.com/s?__biz=MzU5NDU0NTIzMQ...</td>\n",
       "      <td>无法分类</td>\n",
       "    </tr>\n",
       "    <tr>\n",
       "      <th>4</th>\n",
       "      <td>赛程 |  体育嘉年华预赛相关赛程安排</td>\n",
       "      <td>2019-10-14</td>\n",
       "      <td>http://mp.weixin.qq.com/s?__biz=MzU5NDU0NTIzMQ...</td>\n",
       "      <td>体育</td>\n",
       "    </tr>\n",
       "    <tr>\n",
       "      <th>5</th>\n",
       "      <td>第十一届“青出于篮”篮球专业赛</td>\n",
       "      <td>2018-04-20</td>\n",
       "      <td>http://mp.weixin.qq.com/s?__biz=MzU5NDU0NTIzMQ...</td>\n",
       "      <td>篮球</td>\n",
       "    </tr>\n",
       "    <tr>\n",
       "      <th>6</th>\n",
       "      <td>第十一届“青出于篮”篮球专业赛</td>\n",
       "      <td>2018-04-18</td>\n",
       "      <td>http://mp.weixin.qq.com/s?__biz=MzU5NDU0NTIzMQ...</td>\n",
       "      <td>篮球</td>\n",
       "    </tr>\n",
       "    <tr>\n",
       "      <th>7</th>\n",
       "      <td>第十一届“青出于篮”篮球专业赛</td>\n",
       "      <td>2018-04-14</td>\n",
       "      <td>http://mp.weixin.qq.com/s?__biz=MzU5NDU0NTIzMQ...</td>\n",
       "      <td>篮球</td>\n",
       "    </tr>\n",
       "    <tr>\n",
       "      <th>8</th>\n",
       "      <td>第十一届“青出于篮”篮球专业赛</td>\n",
       "      <td>2018-04-14</td>\n",
       "      <td>http://mp.weixin.qq.com/s?__biz=MzU5NDU0NTIzMQ...</td>\n",
       "      <td>篮球</td>\n",
       "    </tr>\n",
       "    <tr>\n",
       "      <th>9</th>\n",
       "      <td>第十一届“青出于篮”篮球专业赛||你来看了吗？</td>\n",
       "      <td>2018-04-13</td>\n",
       "      <td>http://mp.weixin.qq.com/s?__biz=MzU5NDU0NTIzMQ...</td>\n",
       "      <td>篮球</td>\n",
       "    </tr>\n",
       "    <tr>\n",
       "      <th>10</th>\n",
       "      <td>第十二届“青出于篮”各专业篮球竞赛第四场</td>\n",
       "      <td>2019-04-06</td>\n",
       "      <td>http://mp.weixin.qq.com/s?__biz=MzU5NDU0NTIzMQ...</td>\n",
       "      <td>篮球</td>\n",
       "    </tr>\n",
       "    <tr>\n",
       "      <th>11</th>\n",
       "      <td>第十二届“青出于篮”各专业篮球竞赛第三场</td>\n",
       "      <td>2019-03-29</td>\n",
       "      <td>http://mp.weixin.qq.com/s?__biz=MzU5NDU0NTIzMQ...</td>\n",
       "      <td>篮球</td>\n",
       "    </tr>\n",
       "    <tr>\n",
       "      <th>12</th>\n",
       "      <td>第十二届“青出于篮”各专业篮球竞赛第二场</td>\n",
       "      <td>2019-03-27</td>\n",
       "      <td>http://mp.weixin.qq.com/s?__biz=MzU5NDU0NTIzMQ...</td>\n",
       "      <td>篮球</td>\n",
       "    </tr>\n",
       "    <tr>\n",
       "      <th>13</th>\n",
       "      <td>第十二届“青出于篮”各专业篮球竞赛</td>\n",
       "      <td>2019-03-24</td>\n",
       "      <td>http://mp.weixin.qq.com/s?__biz=MzU5NDU0NTIzMQ...</td>\n",
       "      <td>篮球</td>\n",
       "    </tr>\n",
       "    <tr>\n",
       "      <th>14</th>\n",
       "      <td>第十二届“青出于蓝”篮球专业赛</td>\n",
       "      <td>2019-03-24</td>\n",
       "      <td>http://mp.weixin.qq.com/s?__biz=MzU5NDU0NTIzMQ...</td>\n",
       "      <td>篮球</td>\n",
       "    </tr>\n",
       "    <tr>\n",
       "      <th>15</th>\n",
       "      <td>篮球专业赛 | 或许，你喜欢篮球吗？</td>\n",
       "      <td>2019-03-17</td>\n",
       "      <td>http://mp.weixin.qq.com/s?__biz=MzU5NDU0NTIzMQ...</td>\n",
       "      <td>篮球</td>\n",
       "    </tr>\n",
       "    <tr>\n",
       "      <th>16</th>\n",
       "      <td>介绍｜哦嚯~是体育部诶!</td>\n",
       "      <td>2018-10-30</td>\n",
       "      <td>http://mp.weixin.qq.com/s?__biz=MzU5NDU0NTIzMQ...</td>\n",
       "      <td>体育</td>\n",
       "    </tr>\n",
       "    <tr>\n",
       "      <th>17</th>\n",
       "      <td>分享图片</td>\n",
       "      <td>2018-10-24</td>\n",
       "      <td>http://mp.weixin.qq.com/s?__biz=MzU5NDU0NTIzMQ...</td>\n",
       "      <td>无法分类</td>\n",
       "    </tr>\n",
       "    <tr>\n",
       "      <th>18</th>\n",
       "      <td>分享图片</td>\n",
       "      <td>2018-10-16</td>\n",
       "      <td>http://mp.weixin.qq.com/s?__biz=MzU5NDU0NTIzMQ...</td>\n",
       "      <td>无法分类</td>\n",
       "    </tr>\n",
       "    <tr>\n",
       "      <th>19</th>\n",
       "      <td>大件事啦！拔河比赛来啦！</td>\n",
       "      <td>2018-10-15</td>\n",
       "      <td>http://mp.weixin.qq.com/s?__biz=MzU5NDU0NTIzMQ...</td>\n",
       "      <td>无法分类</td>\n",
       "    </tr>\n",
       "    <tr>\n",
       "      <th>20</th>\n",
       "      <td>篮球永不熄，青春不谢幕</td>\n",
       "      <td>2018-06-20</td>\n",
       "      <td>http://mp.weixin.qq.com/s?__biz=MzU5NDU0NTIzMQ...</td>\n",
       "      <td>篮球</td>\n",
       "    </tr>\n",
       "    <tr>\n",
       "      <th>21</th>\n",
       "      <td>第十一届“青出于篮”各专业篮球竞赛落下帷幕</td>\n",
       "      <td>2018-05-18</td>\n",
       "      <td>http://mp.weixin.qq.com/s?__biz=MzU5NDU0NTIzMQ...</td>\n",
       "      <td>篮球</td>\n",
       "    </tr>\n",
       "    <tr>\n",
       "      <th>22</th>\n",
       "      <td>关于最有价值球员奖项的公告！</td>\n",
       "      <td>2018-05-18</td>\n",
       "      <td>http://mp.weixin.qq.com/s?__biz=MzU5NDU0NTIzMQ...</td>\n",
       "      <td>无法分类</td>\n",
       "    </tr>\n",
       "    <tr>\n",
       "      <th>23</th>\n",
       "      <td>第十一届“青出于篮”篮球专业赛</td>\n",
       "      <td>2018-04-28</td>\n",
       "      <td>http://mp.weixin.qq.com/s?__biz=MzU5NDU0NTIzMQ...</td>\n",
       "      <td>篮球</td>\n",
       "    </tr>\n",
       "    <tr>\n",
       "      <th>24</th>\n",
       "      <td>第十一届“青出于篮”篮球专业赛</td>\n",
       "      <td>2018-04-22</td>\n",
       "      <td>http://mp.weixin.qq.com/s?__biz=MzU5NDU0NTIzMQ...</td>\n",
       "      <td>篮球</td>\n",
       "    </tr>\n",
       "    <tr>\n",
       "      <th>25</th>\n",
       "      <td>第十一届“青出于篮”篮球专业赛</td>\n",
       "      <td>2018-04-21</td>\n",
       "      <td>http://mp.weixin.qq.com/s?__biz=MzU5NDU0NTIzMQ...</td>\n",
       "      <td>篮球</td>\n",
       "    </tr>\n",
       "    <tr>\n",
       "      <th>26</th>\n",
       "      <td>第十一届“青出于篮”篮球专业赛</td>\n",
       "      <td>2018-04-20</td>\n",
       "      <td>http://mp.weixin.qq.com/s?__biz=MzU5NDU0NTIzMQ...</td>\n",
       "      <td>篮球</td>\n",
       "    </tr>\n",
       "    <tr>\n",
       "      <th>27</th>\n",
       "      <td>第十一届“青出于篮”篮球专业赛</td>\n",
       "      <td>2018-04-18</td>\n",
       "      <td>http://mp.weixin.qq.com/s?__biz=MzU5NDU0NTIzMQ...</td>\n",
       "      <td>篮球</td>\n",
       "    </tr>\n",
       "    <tr>\n",
       "      <th>28</th>\n",
       "      <td>第十一届“青出于篮”篮球专业赛</td>\n",
       "      <td>2018-04-14</td>\n",
       "      <td>http://mp.weixin.qq.com/s?__biz=MzU5NDU0NTIzMQ...</td>\n",
       "      <td>篮球</td>\n",
       "    </tr>\n",
       "    <tr>\n",
       "      <th>29</th>\n",
       "      <td>第十一届“青出于篮”篮球专业赛</td>\n",
       "      <td>2018-04-14</td>\n",
       "      <td>http://mp.weixin.qq.com/s?__biz=MzU5NDU0NTIzMQ...</td>\n",
       "      <td>篮球</td>\n",
       "    </tr>\n",
       "    <tr>\n",
       "      <th>30</th>\n",
       "      <td>第十一届“青出于篮”篮球专业赛||你来看了吗？</td>\n",
       "      <td>2018-04-13</td>\n",
       "      <td>http://mp.weixin.qq.com/s?__biz=MzU5NDU0NTIzMQ...</td>\n",
       "      <td>篮球</td>\n",
       "    </tr>\n",
       "  </tbody>\n",
       "</table>\n",
       "</div>"
      ],
      "text/plain": [
       "                               title create_time  \\\n",
       "0   迎体育盛会，展文传风采——文学与传媒学院第七届体育嘉年华圆满落幕  2019-10-30   \n",
       "1      公示 | 文学与传媒学院第七届体育嘉年华各项比赛成绩及奖项  2019-10-29   \n",
       "2               焕新 | “ 害! 我们这不就来了吗！”  2019-10-21   \n",
       "3           赛程 | 拔河比赛晋级半决赛11强名单及赛程安排  2019-10-16   \n",
       "4                赛程 |  体育嘉年华预赛相关赛程安排  2019-10-14   \n",
       "5                    第十一届“青出于篮”篮球专业赛  2018-04-20   \n",
       "6                    第十一届“青出于篮”篮球专业赛  2018-04-18   \n",
       "7                    第十一届“青出于篮”篮球专业赛  2018-04-14   \n",
       "8                    第十一届“青出于篮”篮球专业赛  2018-04-14   \n",
       "9            第十一届“青出于篮”篮球专业赛||你来看了吗？  2018-04-13   \n",
       "10              第十二届“青出于篮”各专业篮球竞赛第四场  2019-04-06   \n",
       "11              第十二届“青出于篮”各专业篮球竞赛第三场  2019-03-29   \n",
       "12              第十二届“青出于篮”各专业篮球竞赛第二场  2019-03-27   \n",
       "13                 第十二届“青出于篮”各专业篮球竞赛  2019-03-24   \n",
       "14                   第十二届“青出于蓝”篮球专业赛  2019-03-24   \n",
       "15                篮球专业赛 | 或许，你喜欢篮球吗？  2019-03-17   \n",
       "16                      介绍｜哦嚯~是体育部诶!  2018-10-30   \n",
       "17                              分享图片  2018-10-24   \n",
       "18                              分享图片  2018-10-16   \n",
       "19                      大件事啦！拔河比赛来啦！  2018-10-15   \n",
       "20                       篮球永不熄，青春不谢幕  2018-06-20   \n",
       "21             第十一届“青出于篮”各专业篮球竞赛落下帷幕  2018-05-18   \n",
       "22                    关于最有价值球员奖项的公告！  2018-05-18   \n",
       "23                   第十一届“青出于篮”篮球专业赛  2018-04-28   \n",
       "24                   第十一届“青出于篮”篮球专业赛  2018-04-22   \n",
       "25                   第十一届“青出于篮”篮球专业赛  2018-04-21   \n",
       "26                   第十一届“青出于篮”篮球专业赛  2018-04-20   \n",
       "27                   第十一届“青出于篮”篮球专业赛  2018-04-18   \n",
       "28                   第十一届“青出于篮”篮球专业赛  2018-04-14   \n",
       "29                   第十一届“青出于篮”篮球专业赛  2018-04-14   \n",
       "30           第十一届“青出于篮”篮球专业赛||你来看了吗？  2018-04-13   \n",
       "\n",
       "                                                 link variable  \n",
       "0   http://mp.weixin.qq.com/s?__biz=MzU5NDU0NTIzMQ...       文传  \n",
       "1   http://mp.weixin.qq.com/s?__biz=MzU5NDU0NTIzMQ...       体育  \n",
       "2   http://mp.weixin.qq.com/s?__biz=MzU5NDU0NTIzMQ...     无法分类  \n",
       "3   http://mp.weixin.qq.com/s?__biz=MzU5NDU0NTIzMQ...     无法分类  \n",
       "4   http://mp.weixin.qq.com/s?__biz=MzU5NDU0NTIzMQ...       体育  \n",
       "5   http://mp.weixin.qq.com/s?__biz=MzU5NDU0NTIzMQ...       篮球  \n",
       "6   http://mp.weixin.qq.com/s?__biz=MzU5NDU0NTIzMQ...       篮球  \n",
       "7   http://mp.weixin.qq.com/s?__biz=MzU5NDU0NTIzMQ...       篮球  \n",
       "8   http://mp.weixin.qq.com/s?__biz=MzU5NDU0NTIzMQ...       篮球  \n",
       "9   http://mp.weixin.qq.com/s?__biz=MzU5NDU0NTIzMQ...       篮球  \n",
       "10  http://mp.weixin.qq.com/s?__biz=MzU5NDU0NTIzMQ...       篮球  \n",
       "11  http://mp.weixin.qq.com/s?__biz=MzU5NDU0NTIzMQ...       篮球  \n",
       "12  http://mp.weixin.qq.com/s?__biz=MzU5NDU0NTIzMQ...       篮球  \n",
       "13  http://mp.weixin.qq.com/s?__biz=MzU5NDU0NTIzMQ...       篮球  \n",
       "14  http://mp.weixin.qq.com/s?__biz=MzU5NDU0NTIzMQ...       篮球  \n",
       "15  http://mp.weixin.qq.com/s?__biz=MzU5NDU0NTIzMQ...       篮球  \n",
       "16  http://mp.weixin.qq.com/s?__biz=MzU5NDU0NTIzMQ...       体育  \n",
       "17  http://mp.weixin.qq.com/s?__biz=MzU5NDU0NTIzMQ...     无法分类  \n",
       "18  http://mp.weixin.qq.com/s?__biz=MzU5NDU0NTIzMQ...     无法分类  \n",
       "19  http://mp.weixin.qq.com/s?__biz=MzU5NDU0NTIzMQ...     无法分类  \n",
       "20  http://mp.weixin.qq.com/s?__biz=MzU5NDU0NTIzMQ...       篮球  \n",
       "21  http://mp.weixin.qq.com/s?__biz=MzU5NDU0NTIzMQ...       篮球  \n",
       "22  http://mp.weixin.qq.com/s?__biz=MzU5NDU0NTIzMQ...     无法分类  \n",
       "23  http://mp.weixin.qq.com/s?__biz=MzU5NDU0NTIzMQ...       篮球  \n",
       "24  http://mp.weixin.qq.com/s?__biz=MzU5NDU0NTIzMQ...       篮球  \n",
       "25  http://mp.weixin.qq.com/s?__biz=MzU5NDU0NTIzMQ...       篮球  \n",
       "26  http://mp.weixin.qq.com/s?__biz=MzU5NDU0NTIzMQ...       篮球  \n",
       "27  http://mp.weixin.qq.com/s?__biz=MzU5NDU0NTIzMQ...       篮球  \n",
       "28  http://mp.weixin.qq.com/s?__biz=MzU5NDU0NTIzMQ...       篮球  \n",
       "29  http://mp.weixin.qq.com/s?__biz=MzU5NDU0NTIzMQ...       篮球  \n",
       "30  http://mp.weixin.qq.com/s?__biz=MzU5NDU0NTIzMQ...       篮球  "
      ]
     },
     "execution_count": 127,
     "metadata": {},
     "output_type": "execute_result"
    }
   ],
   "source": [
    "df_o = df_url_out.join(df_cat).replace(\"\", np.nan).fillna(\"无法分类\")\n",
    "df_o"
   ]
  },
  {
   "cell_type": "code",
   "execution_count": 128,
   "metadata": {},
   "outputs": [
    {
     "data": {
      "text/html": [
       "<div>\n",
       "<style scoped>\n",
       "    .dataframe tbody tr th:only-of-type {\n",
       "        vertical-align: middle;\n",
       "    }\n",
       "\n",
       "    .dataframe tbody tr th {\n",
       "        vertical-align: top;\n",
       "    }\n",
       "\n",
       "    .dataframe thead th {\n",
       "        text-align: right;\n",
       "    }\n",
       "</style>\n",
       "<table border=\"1\" class=\"dataframe\">\n",
       "  <thead>\n",
       "    <tr style=\"text-align: right;\">\n",
       "      <th></th>\n",
       "      <th>title</th>\n",
       "      <th>create_time</th>\n",
       "      <th>link</th>\n",
       "      <th>variable</th>\n",
       "    </tr>\n",
       "  </thead>\n",
       "  <tbody>\n",
       "    <tr>\n",
       "      <th>5</th>\n",
       "      <td>第十一届“青出于篮”篮球专业赛</td>\n",
       "      <td>2018-04-20</td>\n",
       "      <td>http://mp.weixin.qq.com/s?__biz=MzU5NDU0NTIzMQ...</td>\n",
       "      <td>篮球</td>\n",
       "    </tr>\n",
       "    <tr>\n",
       "      <th>6</th>\n",
       "      <td>第十一届“青出于篮”篮球专业赛</td>\n",
       "      <td>2018-04-18</td>\n",
       "      <td>http://mp.weixin.qq.com/s?__biz=MzU5NDU0NTIzMQ...</td>\n",
       "      <td>篮球</td>\n",
       "    </tr>\n",
       "    <tr>\n",
       "      <th>7</th>\n",
       "      <td>第十一届“青出于篮”篮球专业赛</td>\n",
       "      <td>2018-04-14</td>\n",
       "      <td>http://mp.weixin.qq.com/s?__biz=MzU5NDU0NTIzMQ...</td>\n",
       "      <td>篮球</td>\n",
       "    </tr>\n",
       "    <tr>\n",
       "      <th>8</th>\n",
       "      <td>第十一届“青出于篮”篮球专业赛</td>\n",
       "      <td>2018-04-14</td>\n",
       "      <td>http://mp.weixin.qq.com/s?__biz=MzU5NDU0NTIzMQ...</td>\n",
       "      <td>篮球</td>\n",
       "    </tr>\n",
       "    <tr>\n",
       "      <th>9</th>\n",
       "      <td>第十一届“青出于篮”篮球专业赛||你来看了吗？</td>\n",
       "      <td>2018-04-13</td>\n",
       "      <td>http://mp.weixin.qq.com/s?__biz=MzU5NDU0NTIzMQ...</td>\n",
       "      <td>篮球</td>\n",
       "    </tr>\n",
       "    <tr>\n",
       "      <th>10</th>\n",
       "      <td>第十二届“青出于篮”各专业篮球竞赛第四场</td>\n",
       "      <td>2019-04-06</td>\n",
       "      <td>http://mp.weixin.qq.com/s?__biz=MzU5NDU0NTIzMQ...</td>\n",
       "      <td>篮球</td>\n",
       "    </tr>\n",
       "    <tr>\n",
       "      <th>11</th>\n",
       "      <td>第十二届“青出于篮”各专业篮球竞赛第三场</td>\n",
       "      <td>2019-03-29</td>\n",
       "      <td>http://mp.weixin.qq.com/s?__biz=MzU5NDU0NTIzMQ...</td>\n",
       "      <td>篮球</td>\n",
       "    </tr>\n",
       "    <tr>\n",
       "      <th>12</th>\n",
       "      <td>第十二届“青出于篮”各专业篮球竞赛第二场</td>\n",
       "      <td>2019-03-27</td>\n",
       "      <td>http://mp.weixin.qq.com/s?__biz=MzU5NDU0NTIzMQ...</td>\n",
       "      <td>篮球</td>\n",
       "    </tr>\n",
       "    <tr>\n",
       "      <th>13</th>\n",
       "      <td>第十二届“青出于篮”各专业篮球竞赛</td>\n",
       "      <td>2019-03-24</td>\n",
       "      <td>http://mp.weixin.qq.com/s?__biz=MzU5NDU0NTIzMQ...</td>\n",
       "      <td>篮球</td>\n",
       "    </tr>\n",
       "    <tr>\n",
       "      <th>14</th>\n",
       "      <td>第十二届“青出于蓝”篮球专业赛</td>\n",
       "      <td>2019-03-24</td>\n",
       "      <td>http://mp.weixin.qq.com/s?__biz=MzU5NDU0NTIzMQ...</td>\n",
       "      <td>篮球</td>\n",
       "    </tr>\n",
       "    <tr>\n",
       "      <th>15</th>\n",
       "      <td>篮球专业赛 | 或许，你喜欢篮球吗？</td>\n",
       "      <td>2019-03-17</td>\n",
       "      <td>http://mp.weixin.qq.com/s?__biz=MzU5NDU0NTIzMQ...</td>\n",
       "      <td>篮球</td>\n",
       "    </tr>\n",
       "    <tr>\n",
       "      <th>20</th>\n",
       "      <td>篮球永不熄，青春不谢幕</td>\n",
       "      <td>2018-06-20</td>\n",
       "      <td>http://mp.weixin.qq.com/s?__biz=MzU5NDU0NTIzMQ...</td>\n",
       "      <td>篮球</td>\n",
       "    </tr>\n",
       "    <tr>\n",
       "      <th>21</th>\n",
       "      <td>第十一届“青出于篮”各专业篮球竞赛落下帷幕</td>\n",
       "      <td>2018-05-18</td>\n",
       "      <td>http://mp.weixin.qq.com/s?__biz=MzU5NDU0NTIzMQ...</td>\n",
       "      <td>篮球</td>\n",
       "    </tr>\n",
       "    <tr>\n",
       "      <th>23</th>\n",
       "      <td>第十一届“青出于篮”篮球专业赛</td>\n",
       "      <td>2018-04-28</td>\n",
       "      <td>http://mp.weixin.qq.com/s?__biz=MzU5NDU0NTIzMQ...</td>\n",
       "      <td>篮球</td>\n",
       "    </tr>\n",
       "    <tr>\n",
       "      <th>24</th>\n",
       "      <td>第十一届“青出于篮”篮球专业赛</td>\n",
       "      <td>2018-04-22</td>\n",
       "      <td>http://mp.weixin.qq.com/s?__biz=MzU5NDU0NTIzMQ...</td>\n",
       "      <td>篮球</td>\n",
       "    </tr>\n",
       "    <tr>\n",
       "      <th>25</th>\n",
       "      <td>第十一届“青出于篮”篮球专业赛</td>\n",
       "      <td>2018-04-21</td>\n",
       "      <td>http://mp.weixin.qq.com/s?__biz=MzU5NDU0NTIzMQ...</td>\n",
       "      <td>篮球</td>\n",
       "    </tr>\n",
       "    <tr>\n",
       "      <th>26</th>\n",
       "      <td>第十一届“青出于篮”篮球专业赛</td>\n",
       "      <td>2018-04-20</td>\n",
       "      <td>http://mp.weixin.qq.com/s?__biz=MzU5NDU0NTIzMQ...</td>\n",
       "      <td>篮球</td>\n",
       "    </tr>\n",
       "    <tr>\n",
       "      <th>27</th>\n",
       "      <td>第十一届“青出于篮”篮球专业赛</td>\n",
       "      <td>2018-04-18</td>\n",
       "      <td>http://mp.weixin.qq.com/s?__biz=MzU5NDU0NTIzMQ...</td>\n",
       "      <td>篮球</td>\n",
       "    </tr>\n",
       "    <tr>\n",
       "      <th>28</th>\n",
       "      <td>第十一届“青出于篮”篮球专业赛</td>\n",
       "      <td>2018-04-14</td>\n",
       "      <td>http://mp.weixin.qq.com/s?__biz=MzU5NDU0NTIzMQ...</td>\n",
       "      <td>篮球</td>\n",
       "    </tr>\n",
       "    <tr>\n",
       "      <th>29</th>\n",
       "      <td>第十一届“青出于篮”篮球专业赛</td>\n",
       "      <td>2018-04-14</td>\n",
       "      <td>http://mp.weixin.qq.com/s?__biz=MzU5NDU0NTIzMQ...</td>\n",
       "      <td>篮球</td>\n",
       "    </tr>\n",
       "    <tr>\n",
       "      <th>30</th>\n",
       "      <td>第十一届“青出于篮”篮球专业赛||你来看了吗？</td>\n",
       "      <td>2018-04-13</td>\n",
       "      <td>http://mp.weixin.qq.com/s?__biz=MzU5NDU0NTIzMQ...</td>\n",
       "      <td>篮球</td>\n",
       "    </tr>\n",
       "  </tbody>\n",
       "</table>\n",
       "</div>"
      ],
      "text/plain": [
       "                      title create_time  \\\n",
       "5           第十一届“青出于篮”篮球专业赛  2018-04-20   \n",
       "6           第十一届“青出于篮”篮球专业赛  2018-04-18   \n",
       "7           第十一届“青出于篮”篮球专业赛  2018-04-14   \n",
       "8           第十一届“青出于篮”篮球专业赛  2018-04-14   \n",
       "9   第十一届“青出于篮”篮球专业赛||你来看了吗？  2018-04-13   \n",
       "10     第十二届“青出于篮”各专业篮球竞赛第四场  2019-04-06   \n",
       "11     第十二届“青出于篮”各专业篮球竞赛第三场  2019-03-29   \n",
       "12     第十二届“青出于篮”各专业篮球竞赛第二场  2019-03-27   \n",
       "13        第十二届“青出于篮”各专业篮球竞赛  2019-03-24   \n",
       "14          第十二届“青出于蓝”篮球专业赛  2019-03-24   \n",
       "15       篮球专业赛 | 或许，你喜欢篮球吗？  2019-03-17   \n",
       "20              篮球永不熄，青春不谢幕  2018-06-20   \n",
       "21    第十一届“青出于篮”各专业篮球竞赛落下帷幕  2018-05-18   \n",
       "23          第十一届“青出于篮”篮球专业赛  2018-04-28   \n",
       "24          第十一届“青出于篮”篮球专业赛  2018-04-22   \n",
       "25          第十一届“青出于篮”篮球专业赛  2018-04-21   \n",
       "26          第十一届“青出于篮”篮球专业赛  2018-04-20   \n",
       "27          第十一届“青出于篮”篮球专业赛  2018-04-18   \n",
       "28          第十一届“青出于篮”篮球专业赛  2018-04-14   \n",
       "29          第十一届“青出于篮”篮球专业赛  2018-04-14   \n",
       "30  第十一届“青出于篮”篮球专业赛||你来看了吗？  2018-04-13   \n",
       "\n",
       "                                                 link variable  \n",
       "5   http://mp.weixin.qq.com/s?__biz=MzU5NDU0NTIzMQ...       篮球  \n",
       "6   http://mp.weixin.qq.com/s?__biz=MzU5NDU0NTIzMQ...       篮球  \n",
       "7   http://mp.weixin.qq.com/s?__biz=MzU5NDU0NTIzMQ...       篮球  \n",
       "8   http://mp.weixin.qq.com/s?__biz=MzU5NDU0NTIzMQ...       篮球  \n",
       "9   http://mp.weixin.qq.com/s?__biz=MzU5NDU0NTIzMQ...       篮球  \n",
       "10  http://mp.weixin.qq.com/s?__biz=MzU5NDU0NTIzMQ...       篮球  \n",
       "11  http://mp.weixin.qq.com/s?__biz=MzU5NDU0NTIzMQ...       篮球  \n",
       "12  http://mp.weixin.qq.com/s?__biz=MzU5NDU0NTIzMQ...       篮球  \n",
       "13  http://mp.weixin.qq.com/s?__biz=MzU5NDU0NTIzMQ...       篮球  \n",
       "14  http://mp.weixin.qq.com/s?__biz=MzU5NDU0NTIzMQ...       篮球  \n",
       "15  http://mp.weixin.qq.com/s?__biz=MzU5NDU0NTIzMQ...       篮球  \n",
       "20  http://mp.weixin.qq.com/s?__biz=MzU5NDU0NTIzMQ...       篮球  \n",
       "21  http://mp.weixin.qq.com/s?__biz=MzU5NDU0NTIzMQ...       篮球  \n",
       "23  http://mp.weixin.qq.com/s?__biz=MzU5NDU0NTIzMQ...       篮球  \n",
       "24  http://mp.weixin.qq.com/s?__biz=MzU5NDU0NTIzMQ...       篮球  \n",
       "25  http://mp.weixin.qq.com/s?__biz=MzU5NDU0NTIzMQ...       篮球  \n",
       "26  http://mp.weixin.qq.com/s?__biz=MzU5NDU0NTIzMQ...       篮球  \n",
       "27  http://mp.weixin.qq.com/s?__biz=MzU5NDU0NTIzMQ...       篮球  \n",
       "28  http://mp.weixin.qq.com/s?__biz=MzU5NDU0NTIzMQ...       篮球  \n",
       "29  http://mp.weixin.qq.com/s?__biz=MzU5NDU0NTIzMQ...       篮球  \n",
       "30  http://mp.weixin.qq.com/s?__biz=MzU5NDU0NTIzMQ...       篮球  "
      ]
     },
     "execution_count": 128,
     "metadata": {},
     "output_type": "execute_result"
    }
   ],
   "source": [
    "df_o[df_o.title.str.contains(\"篮球\")]"
   ]
  },
  {
   "cell_type": "code",
   "execution_count": 129,
   "metadata": {},
   "outputs": [
    {
     "data": {
      "text/html": [
       "<div>\n",
       "<style scoped>\n",
       "    .dataframe tbody tr th:only-of-type {\n",
       "        vertical-align: middle;\n",
       "    }\n",
       "\n",
       "    .dataframe tbody tr th {\n",
       "        vertical-align: top;\n",
       "    }\n",
       "\n",
       "    .dataframe thead th {\n",
       "        text-align: right;\n",
       "    }\n",
       "</style>\n",
       "<table border=\"1\" class=\"dataframe\">\n",
       "  <thead>\n",
       "    <tr style=\"text-align: right;\">\n",
       "      <th></th>\n",
       "      <th>title</th>\n",
       "    </tr>\n",
       "    <tr>\n",
       "      <th>variable</th>\n",
       "      <th></th>\n",
       "    </tr>\n",
       "  </thead>\n",
       "  <tbody>\n",
       "    <tr>\n",
       "      <th>篮球</th>\n",
       "      <td>21</td>\n",
       "    </tr>\n",
       "    <tr>\n",
       "      <th>无法分类</th>\n",
       "      <td>6</td>\n",
       "    </tr>\n",
       "    <tr>\n",
       "      <th>体育</th>\n",
       "      <td>3</td>\n",
       "    </tr>\n",
       "    <tr>\n",
       "      <th>文传</th>\n",
       "      <td>1</td>\n",
       "    </tr>\n",
       "  </tbody>\n",
       "</table>\n",
       "</div>"
      ],
      "text/plain": [
       "          title\n",
       "variable       \n",
       "篮球           21\n",
       "无法分类          6\n",
       "体育            3\n",
       "文传            1"
      ]
     },
     "execution_count": 129,
     "metadata": {},
     "output_type": "execute_result"
    }
   ],
   "source": [
    "df_stats = df_o.groupby(by=\"variable\").agg({\"title\":\"count\"}).sort_values(by=\"title\", ascending=False)\n",
    "df_stats"
   ]
  },
  {
   "cell_type": "markdown",
   "metadata": {},
   "source": [
    "## 输出"
   ]
  },
  {
   "cell_type": "code",
   "execution_count": 130,
   "metadata": {},
   "outputs": [],
   "source": [
    "df_account.columns.name = \"rel_accounts\"\n",
    "df_o.columns.name = \"url_cat\"\n",
    "df_stats.columns.name = \"stats\"\n"
   ]
  },
  {
   "cell_type": "code",
   "execution_count": 131,
   "metadata": {},
   "outputs": [],
   "source": [
    "_df_.columns.name"
   ]
  },
  {
   "cell_type": "code",
   "execution_count": 137,
   "metadata": {},
   "outputs": [],
   "source": [
    "# Get the xlsxwriter workbook and worksheet objects.  \n",
    "with pd.ExcelWriter(fn[\"output\"][\"公众号_xlsx\"].format(公众号=公众号)) as writer:\n",
    "    workbook  = writer.book\n",
    "\n",
    "    for _df_ in [df_account, df_o, df_stats]:\n",
    "        _df_.to_excel(writer, sheet_name = _df_.columns.name)\n"
   ]
  }
 ],
 "metadata": {
  "kernelspec": {
   "display_name": "Python 3",
   "language": "python",
   "name": "python3"
  },
  "language_info": {
   "codemirror_mode": {
    "name": "ipython",
    "version": 3
   },
   "file_extension": ".py",
   "mimetype": "text/x-python",
   "name": "python",
   "nbconvert_exporter": "python",
   "pygments_lexer": "ipython3",
   "version": "3.7.3"
  },
  "toc": {
   "base_numbering": 1,
   "nav_menu": {},
   "number_sections": true,
   "sideBar": true,
   "skip_h1_title": false,
   "title_cell": "Table of Contents",
   "title_sidebar": "Contents",
   "toc_cell": false,
   "toc_position": {},
   "toc_section_display": true,
   "toc_window_display": true
  }
 },
 "nbformat": 4,
 "nbformat_minor": 4
}
