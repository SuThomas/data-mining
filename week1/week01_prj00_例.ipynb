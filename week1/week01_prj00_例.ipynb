{
 "cells": [
  {
   "cell_type": "markdown",
   "metadata": {
    "slideshow": {
     "slide_type": "slide"
    }
   },
   "source": [
    "# 20春_Web数据挖掘\n",
    "# 项目0 by 廖汉腾, 许智超"
   ]
  },
  {
   "cell_type": "markdown",
   "metadata": {
    "slideshow": {
     "slide_type": "fragment"
    }
   },
   "source": [
    "### 抄用最人性化的模块\n",
    "* 来源 [最新的爬虫工具requests-html](https://www.cnblogs.com/fnng/p/8948015.html)\n",
    "* 文档 [requests-html](https://requests-html.kennethreitz.org/)\n",
    "\n",
    "####  项目0.A cnblogs 新闻"
   ]
  },
  {
   "cell_type": "code",
   "execution_count": 5,
   "metadata": {
    "slideshow": {
     "slide_type": "subslide"
    }
   },
   "outputs": [
    {
     "name": "stdout",
     "output_type": "stream",
     "text": [
      "标题: 北斗导航系统即将完全建成，我们的生活会因此改变么？\n",
      "链接: {'https://news.cnblogs.com/n/659359/'}\n",
      "标题: 僵尸网络盯上微软，黑客用MSSQL数据库挖矿近两年，每天攻击近3000个数据库\n",
      "链接: {'https://news.cnblogs.com/n/659397/'}\n",
      "标题: “液体活检” 新突破！抽血一次可识别50余种癌症，早筛误检率低于1%\n",
      "链接: {'https://news.cnblogs.com/n/659377/'}\n",
      "标题: 一文看懂华为P40系列发布会：最强拍照手机卖到8888元 最贵终端揭晓\n",
      "链接: {'https://news.cnblogs.com/n/659358/'}\n",
      "标题: 闲鱼卖货遭遇买家调包，我这样斗智斗勇追回损失\n",
      "链接: {'https://news.cnblogs.com/n/659331/'}\n",
      "标题: 阿里达摩院研发全新ISP处理器，夜间图像识别精准率提升10%\n",
      "链接: {'https://news.cnblogs.com/n/659318/'}\n",
      "标题: 成立 10 周年的小米 ，为什么是一个奇迹？\n",
      "链接: {'https://news.cnblogs.com/n/659311/'}\n",
      "标题: 被网赌毁掉的年轻人：本想兼职赚钱，结果倾家荡产\n",
      "链接: {'https://news.cnblogs.com/n/659291/'}\n",
      "标题: 做独立开发者两年了，我是这样赚钱的\n",
      "链接: {'https://news.cnblogs.com/n/659256/'}\n",
      "标题: 中国首个胃癌免疫疗法终于来了！\n",
      "链接: {'https://news.cnblogs.com/n/659250/'}\n",
      "标题: 来自语音从业者的一封批评信\n",
      "链接: {'https://news.cnblogs.com/n/659234/'}\n",
      "标题: 瑞幸咖啡：是经营失败，还是欺诈成功？\n",
      "链接: {'https://news.cnblogs.com/n/659189/'}\n",
      "标题: .NET 5.0 Preview 2 发布\n",
      "链接: {'https://news.cnblogs.com/n/659175/'}\n",
      "标题: 你为什么退出 B 站？B 站：因为我要变强\n",
      "链接: {'https://news.cnblogs.com/n/659156/'}\n",
      "标题: 真“碳基电路”：把细胞变成计算机？华人研究登Science\n",
      "链接: {'https://news.cnblogs.com/n/659126/'}\n",
      "标题: Zoom爆重大安全漏洞：数万视频被公开围观 CEO考虑开源\n",
      "链接: {'https://news.cnblogs.com/n/659123/'}\n",
      "标题: 星巴克的黑粉是瑞幸的护盘侠\n",
      "链接: {'https://news.cnblogs.com/n/659117/'}\n",
      "标题: 云撸猫从未如此真实，谷歌3D动物走红\n",
      "链接: {'https://news.cnblogs.com/n/659061/'}\n"
     ]
    }
   ],
   "source": [
    "from requests_html import HTMLSession\n",
    "\n",
    "session = HTMLSession()\n",
    "\n",
    "r = session.get(\"https://news.cnblogs.com/n/recommend\")\n",
    "\n",
    "# 通过CSS找到新闻标签\n",
    "news = r.html.find('h2.news_entry > a')\n",
    "\n",
    "for new in news:\n",
    "    print(\"标题:\",new.text)  # 获得新闻标题\n",
    "    print(\"链接:\",new.absolute_links)  # 获得新闻链接 "
   ]
  },
  {
   "cell_type": "markdown",
   "metadata": {
    "slideshow": {
     "slide_type": "slide"
    }
   },
   "source": [
    "### 不是算Python的内容：HTML 之 xpath 与 selector\n",
    "\n",
    "接下来需要选择器selector抽取数据img，借用HTML的\"结构\"性(chrome要从页面选到结构，你懂的)，有两种可能，必记下来\n",
    "* xpath \n",
    "* CSS selector\n",
    "\n",
    "试第一个和另一个，看看有什麽规律 (侦探活)\n",
    "Chrome Console下使用Javascript\n",
    "* xpath: \n",
    "```$x(\"放这\")```\n",
    "\n",
    "* CSS: \n",
    "``` $(\"放这\") ```\n",
    "\n",
    "-----\n",
    "\n",
    "####  项目0.B liepin 工作"
   ]
  },
  {
   "cell_type": "code",
   "execution_count": 6,
   "metadata": {
    "slideshow": {
     "slide_type": "subslide"
    }
   },
   "outputs": [
    {
     "name": "stdout",
     "output_type": "stream",
     "text": [
      "工作 华北商务总监\n",
      "工作 {'https://www.liepin.com/job/1926123999.shtml'}\n",
      "工作 东南亚本地图片内容市场负责人\n",
      "工作 {'https://www.liepin.com/job/1925217269.shtml'}\n",
      "工作 海外商业化高级经理\n",
      "工作 {'https://www.liepin.com/job/1925215565.shtml'}\n",
      "工作 品牌广告销售经理\n",
      "工作 {'https://www.liepin.com/job/1920372193.shtml'}\n",
      "工作 好看视频内容运营\n",
      "工作 {'https://www.liepin.com/job/1924846743.shtml'}\n",
      "工作 好看视频MCN运营\n",
      "工作 {'https://www.liepin.com/job/1925469917.shtml'}\n",
      "工作 运营总监\n",
      "工作 {'https://www.liepin.com/job/1914580595.shtml'}\n",
      "工作 运营总监（传媒网综）\n",
      "工作 {'https://www.liepin.com/job/1914259649.shtml'}\n",
      "工作 广告营销总监\n",
      "工作 {'https://www.liepin.com/job/1910016554.shtml'}\n",
      "工作 制作人\n",
      "工作 {'https://www.liepin.com/job/199671143.shtml'}\n",
      "工作 项目经理（制片人）\n",
      "工作 {'https://www.liepin.com/job/198520115.shtml'}\n",
      "工作 新媒体运营\n",
      "工作 {'https://www.liepin.com/job/1924227947.shtml'}\n",
      "工作 maya动画师\n",
      "工作 {'https://www.liepin.com/job/1920596373.shtml'}\n",
      "工作 好看视频内容电商运营\n",
      "工作 {'https://www.liepin.com/job/1925469805.shtml'}\n",
      "工作 好看视频PUGC创作者运营\n",
      "工作 {'https://www.liepin.com/job/1925469725.shtml'}\n",
      "工作 好看视频MCN运营\n",
      "工作 {'https://www.liepin.com/job/1926461653.shtml'}\n",
      "工作 好看视频内容电商运营\n",
      "工作 {'https://www.liepin.com/job/1926461941.shtml'}\n",
      "工作 好看视频PUGC创作者运营\n",
      "工作 {'https://www.liepin.com/job/1926478031.shtml'}\n",
      "工作 好看视频高级产品经理(功能设计方向)\n",
      "工作 {'https://www.liepin.com/job/1919752845.shtml'}\n",
      "工作 好看视频高级产品经理（功能设计方向）\n",
      "工作 {'https://www.liepin.com/job/1926505211.shtml'}\n",
      "工作 产品创新研发总经理（建筑）(J10272)\n",
      "工作 {'https://www.liepin.com/job/1926114231.shtml'}\n",
      "工作 java高级开发工程师\n",
      "工作 {'https://www.liepin.com/job/1921560023.shtml'}\n",
      "工作 客服审核主管\n",
      "工作 {'https://www.liepin.com/job/1921283641.shtml'}\n",
      "工作 男频责编\n",
      "工作 {'https://www.liepin.com/job/1921164445.shtml'}\n",
      "工作 法务经理\n",
      "工作 {'https://www.liepin.com/job/1921047061.shtml'}\n",
      "工作 法务总监\n",
      "工作 {'https://www.liepin.com/job/1920441219.shtml'}\n",
      "工作 法务专员主管\n",
      "工作 {'https://www.liepin.com/job/1920440979.shtml'}\n",
      "工作 法务专员\n",
      "工作 {'https://www.liepin.com/job/1920348951.shtml'}\n",
      "工作 男频编辑\n",
      "工作 {'https://www.liepin.com/job/1917382661.shtml'}\n",
      "工作 商务渠道\n",
      "工作 {'https://www.liepin.com/job/1920188793.shtml'}\n",
      "工作 版权商务\n",
      "工作 {'https://www.liepin.com/job/1920188677.shtml'}\n",
      "工作 财务总监\n",
      "工作 {'https://www.liepin.com/job/1920107683.shtml'}\n",
      "工作 会计\n",
      "工作 {'https://www.liepin.com/job/1920104599.shtml'}\n",
      "工作 APP渠道推广\n",
      "工作 {'https://www.liepin.com/job/1918788457.shtml'}\n",
      "工作 H5前端开发工程师\n",
      "工作 {'https://www.liepin.com/job/1918709595.shtml'}\n",
      "工作 商务经理\n",
      "工作 {'https://www.liepin.com/job/1917382691.shtml'}\n",
      "工作 商务\n",
      "工作 {'https://www.liepin.com/job/1917382675.shtml'}\n",
      "工作 三方运营专员\n",
      "工作 {'https://www.liepin.com/job/1917382635.shtml'}\n",
      "工作 高级ios工程师\n",
      "工作 {'https://www.liepin.com/job/1916275301.shtml'}\n",
      "工作 产品总监\n",
      "工作 {'https://www.liepin.com/job/1917411411.shtml'}\n"
     ]
    }
   ],
   "source": [
    "from requests_html import HTMLSession\n",
    "\n",
    "session = HTMLSession()\n",
    "\n",
    "r = session.get(\"https://www.liepin.com/zhaopin/?key=好看\")\n",
    "\n",
    "news = r.html.xpath('//div[@class=\"job-info\"]/h3/a')\n",
    "\n",
    "for new in news:\n",
    "    print(\"工作\",new.text)  \n",
    "    print(\"工作\",new.absolute_links)  "
   ]
  },
  {
   "cell_type": "markdown",
   "metadata": {
    "slideshow": {
     "slide_type": "subslide"
    }
   },
   "source": [
    "####  展示图\n",
    "* Jupyter 可用的魔法之一 IPython 展示模块, HTML转码"
   ]
  },
  {
   "cell_type": "code",
   "execution_count": 8,
   "metadata": {
    "slideshow": {
     "slide_type": "fragment"
    }
   },
   "outputs": [
    {
     "data": {
      "text/html": [
       "<img src=\"https://httpstatusdogs.com/img/204.jpg\" alt=\"\">"
      ],
      "text/plain": [
       "<IPython.core.display.HTML object>"
      ]
     },
     "metadata": {},
     "output_type": "display_data"
    }
   ],
   "source": [
    "from IPython.core.display import display, HTML\n",
    "display(HTML('<img src=\"https://httpstatusdogs.com/img/204.jpg\" alt=\"\">'))"
   ]
  },
  {
   "cell_type": "markdown",
   "metadata": {
    "slideshow": {
     "slide_type": "slide"
    }
   },
   "source": [
    "####  展示图\n",
    "* Jupyter 可用的魔法之一 IPython 展示模块, HTML转码"
   ]
  },
  {
   "cell_type": "code",
   "execution_count": 10,
   "metadata": {
    "slideshow": {
     "slide_type": "fragment"
    }
   },
   "outputs": [
    {
     "data": {
      "text/markdown": [
       "![](https://httpstatusdogs.com/img/207.jpg)"
      ],
      "text/plain": [
       "<IPython.core.display.Markdown object>"
      ]
     },
     "metadata": {},
     "output_type": "display_data"
    }
   ],
   "source": [
    "from IPython.core.display import display, Markdown\n",
    "display(Markdown('![](https://httpstatusdogs.com/img/207.jpg)'))"
   ]
  },
  {
   "cell_type": "markdown",
   "metadata": {
    "slideshow": {
     "slide_type": "slide"
    }
   },
   "source": [
    "### 抓抓图片?\n",
    "[图片新闻_Bing](http://www.gov.cn/xinwen/tupian/index.htm)\n",
    "\n",
    "####  项目0.C 图片新闻"
   ]
  },
  {
   "cell_type": "code",
   "execution_count": 11,
   "metadata": {
    "slideshow": {
     "slide_type": "fragment"
    }
   },
   "outputs": [
    {
     "data": {
      "text/markdown": [
       "![](data:image/png;base64,iVBORw0KGgoAAAANSUhEUgAAAAEAAAABCAQAAAC1HAwCAAAAC0lEQVR42mNgYAAAAAMAASsJTYQAAAAASUVORK5CYII=)"
      ],
      "text/plain": [
       "<IPython.core.display.Markdown object>"
      ]
     },
     "metadata": {},
     "output_type": "display_data"
    },
    {
     "data": {
      "text/markdown": [
       "![](https://tse1-mm.cn.bing.net/th/id/OET.00a587ae1ff046408be91fbb076c3752?w=272&h=272&c=7&rs=1&o=5&pid=1.9)"
      ],
      "text/plain": [
       "<IPython.core.display.Markdown object>"
      ]
     },
     "metadata": {},
     "output_type": "display_data"
    },
    {
     "data": {
      "text/markdown": [
       "![](https://tse1-mm.cn.bing.net/th/id/OET.c6f829cef1f541cc830001e576d18509?w=272&h=135&c=7&rs=1&o=5&pid=1.9)"
      ],
      "text/plain": [
       "<IPython.core.display.Markdown object>"
      ]
     },
     "metadata": {},
     "output_type": "display_data"
    },
    {
     "data": {
      "text/markdown": [
       "![](https://tse1-mm.cn.bing.net/th/id/OET.42bde6cca7c047f4b1478d5109d617d6?w=272&h=135&c=7&rs=1&o=5&pid=1.9)"
      ],
      "text/plain": [
       "<IPython.core.display.Markdown object>"
      ]
     },
     "metadata": {},
     "output_type": "display_data"
    },
    {
     "data": {
      "text/markdown": [
       "![](https://tse1-mm.cn.bing.net/th/id/OET.9066fa49dddf4ca08bb9d2d0c564c8c4?w=272&h=135&c=7&rs=1&o=5&pid=1.9)"
      ],
      "text/plain": [
       "<IPython.core.display.Markdown object>"
      ]
     },
     "metadata": {},
     "output_type": "display_data"
    },
    {
     "data": {
      "text/markdown": [
       "![](https://tse1-mm.cn.bing.net/th/id/OET.473cc515118e4144a5a47b5d15071abf?w=272&h=135&c=7&rs=1&o=5&pid=1.9)"
      ],
      "text/plain": [
       "<IPython.core.display.Markdown object>"
      ]
     },
     "metadata": {},
     "output_type": "display_data"
    },
    {
     "data": {
      "text/markdown": [
       "![](https://tse1-mm.cn.bing.net/th/id/OET.d38656b862044ebab97dd79b686983f4?w=272&h=135&c=7&rs=1&o=5&pid=1.9)"
      ],
      "text/plain": [
       "<IPython.core.display.Markdown object>"
      ]
     },
     "metadata": {},
     "output_type": "display_data"
    },
    {
     "data": {
      "text/markdown": [
       "![](https://tse1-mm.cn.bing.net/th/id/OET.e178269064e5469cb039aaf3bf8d07a1?w=272&h=135&c=7&rs=1&o=5&pid=1.9)"
      ],
      "text/plain": [
       "<IPython.core.display.Markdown object>"
      ]
     },
     "metadata": {},
     "output_type": "display_data"
    },
    {
     "data": {
      "text/markdown": [
       "![](https://tse1-mm.cn.bing.net/th/id/OET.b6a5c2dfd3804368b8c1bc294fbbefd1?w=135&h=135&c=7&rs=1&o=5&pid=1.9)"
      ],
      "text/plain": [
       "<IPython.core.display.Markdown object>"
      ]
     },
     "metadata": {},
     "output_type": "display_data"
    },
    {
     "data": {
      "text/markdown": [
       "![](https://tse1-mm.cn.bing.net/th/id/OET.10cccd1a1ca44c9cb84eca8a35fe510c?w=135&h=135&c=7&rs=1&o=5&pid=1.9)"
      ],
      "text/plain": [
       "<IPython.core.display.Markdown object>"
      ]
     },
     "metadata": {},
     "output_type": "display_data"
    },
    {
     "data": {
      "text/markdown": [
       "![](https://tse1-mm.cn.bing.net/th/id/OET.20d27a9f705f4a1cb60459eceb7b3622?w=135&h=135&c=7&rs=1&o=5&pid=1.9)"
      ],
      "text/plain": [
       "<IPython.core.display.Markdown object>"
      ]
     },
     "metadata": {},
     "output_type": "display_data"
    },
    {
     "data": {
      "text/markdown": [
       "![](https://tse1-mm.cn.bing.net/th/id/OET.ff48a185cf804022bb8168f4231ee894?w=135&h=135&c=7&rs=1&o=5&pid=1.9)"
      ],
      "text/plain": [
       "<IPython.core.display.Markdown object>"
      ]
     },
     "metadata": {},
     "output_type": "display_data"
    },
    {
     "data": {
      "text/markdown": [
       "![](https://tse1-mm.cn.bing.net/th/id/OET.3deabfe23fe541dd9dd21d2d6fdc59c7?w=272&h=272&c=7&rs=1&o=5&pid=1.9)"
      ],
      "text/plain": [
       "<IPython.core.display.Markdown object>"
      ]
     },
     "metadata": {},
     "output_type": "display_data"
    },
    {
     "data": {
      "text/markdown": [
       "![](https://tse1-mm.cn.bing.net/th/id/OET.909cb44461db4edc9bf822ad85ed3e7e?w=135&h=272&c=7&rs=1&o=5&pid=1.9)"
      ],
      "text/plain": [
       "<IPython.core.display.Markdown object>"
      ]
     },
     "metadata": {},
     "output_type": "display_data"
    },
    {
     "data": {
      "text/markdown": [
       "![](https://tse1-mm.cn.bing.net/th/id/OET.dde92f5f96964b57994c57cc82d85926?w=135&h=272&c=7&rs=1&o=5&pid=1.9)"
      ],
      "text/plain": [
       "<IPython.core.display.Markdown object>"
      ]
     },
     "metadata": {},
     "output_type": "display_data"
    },
    {
     "data": {
      "text/markdown": [
       "![](https://tse1-mm.cn.bing.net/th/id/OET.40fdebffc770435eb064c821b378d060?w=135&h=272&c=7&rs=1&o=5&pid=1.9)"
      ],
      "text/plain": [
       "<IPython.core.display.Markdown object>"
      ]
     },
     "metadata": {},
     "output_type": "display_data"
    },
    {
     "data": {
      "text/markdown": [
       "![](https://tse1-mm.cn.bing.net/th/id/OET.76818fe693d443b0a4ce77f3fe02220d?w=135&h=272&c=7&rs=1&o=5&pid=1.9)"
      ],
      "text/plain": [
       "<IPython.core.display.Markdown object>"
      ]
     },
     "metadata": {},
     "output_type": "display_data"
    },
    {
     "data": {
      "text/markdown": [
       "![](https://tse1-mm.cn.bing.net/th/id/OET.d23e3b50c75d47caabeeb4522bcee299?w=135&h=272&c=7&rs=1&o=5&pid=1.9)"
      ],
      "text/plain": [
       "<IPython.core.display.Markdown object>"
      ]
     },
     "metadata": {},
     "output_type": "display_data"
    },
    {
     "data": {
      "text/markdown": [
       "![](https://tse1-mm.cn.bing.net/th/id/OET.2836b67d4ed44ef2945a41b3f55267c1?w=135&h=272&c=7&rs=1&o=5&pid=1.9)"
      ],
      "text/plain": [
       "<IPython.core.display.Markdown object>"
      ]
     },
     "metadata": {},
     "output_type": "display_data"
    },
    {
     "data": {
      "text/markdown": [
       "![](https://tse1-mm.cn.bing.net/th/id/OET.5a264a15c31b43118f99d789d70ea026?w=135&h=135&c=7&rs=1&o=5&pid=1.9)"
      ],
      "text/plain": [
       "<IPython.core.display.Markdown object>"
      ]
     },
     "metadata": {},
     "output_type": "display_data"
    },
    {
     "data": {
      "text/markdown": [
       "![](https://tse1-mm.cn.bing.net/th/id/OET.8678abdd702e45428639bef08b94d69d?w=135&h=135&c=7&rs=1&o=5&pid=1.9)"
      ],
      "text/plain": [
       "<IPython.core.display.Markdown object>"
      ]
     },
     "metadata": {},
     "output_type": "display_data"
    },
    {
     "data": {
      "text/markdown": [
       "![](https://tse1-mm.cn.bing.net/th/id/OET.3029de2ad6f64aa1abdc1f2fa13bb9bf?w=135&h=135&c=7&rs=1&o=5&pid=1.9)"
      ],
      "text/plain": [
       "<IPython.core.display.Markdown object>"
      ]
     },
     "metadata": {},
     "output_type": "display_data"
    },
    {
     "data": {
      "text/markdown": [
       "![](https://tse1-mm.cn.bing.net/th/id/OET.58a5cc628bf24895a21261e98deeca3b?w=135&h=135&c=7&rs=1&o=5&pid=1.9)"
      ],
      "text/plain": [
       "<IPython.core.display.Markdown object>"
      ]
     },
     "metadata": {},
     "output_type": "display_data"
    },
    {
     "data": {
      "text/markdown": [
       "![](https://tse1-mm.cn.bing.net/th/id/OET.48440d99426541859bfadadee60ec9d3?w=272&h=272&c=7&rs=1&o=5&pid=1.9)"
      ],
      "text/plain": [
       "<IPython.core.display.Markdown object>"
      ]
     },
     "metadata": {},
     "output_type": "display_data"
    },
    {
     "data": {
      "text/markdown": [
       "![](https://tse1-mm.cn.bing.net/th/id/OET.42204ad983b54fc99985f1f8f3689527?w=135&h=272&c=7&rs=1&o=5&pid=1.9)"
      ],
      "text/plain": [
       "<IPython.core.display.Markdown object>"
      ]
     },
     "metadata": {},
     "output_type": "display_data"
    },
    {
     "data": {
      "text/markdown": [
       "![](https://tse1-mm.cn.bing.net/th/id/OET.1cfc106b85c04dd9a11a421a30895649?w=135&h=272&c=7&rs=1&o=5&pid=1.9)"
      ],
      "text/plain": [
       "<IPython.core.display.Markdown object>"
      ]
     },
     "metadata": {},
     "output_type": "display_data"
    },
    {
     "data": {
      "text/markdown": [
       "![](https://tse1-mm.cn.bing.net/th/id/OET.b3b17bf5154147509f36576ef21c517d?w=135&h=272&c=7&rs=1&o=5&pid=1.9)"
      ],
      "text/plain": [
       "<IPython.core.display.Markdown object>"
      ]
     },
     "metadata": {},
     "output_type": "display_data"
    },
    {
     "data": {
      "text/markdown": [
       "![](https://tse1-mm.cn.bing.net/th/id/OET.f605f7a1612444edaba1bd0524f12875?w=135&h=272&c=7&rs=1&o=5&pid=1.9)"
      ],
      "text/plain": [
       "<IPython.core.display.Markdown object>"
      ]
     },
     "metadata": {},
     "output_type": "display_data"
    },
    {
     "data": {
      "text/markdown": [
       "![](https://tse1-mm.cn.bing.net/th/id/OET.0eeaa847eb364db19f1e0a1a530d7f83?w=135&h=272&c=7&rs=1&o=5&pid=1.9)"
      ],
      "text/plain": [
       "<IPython.core.display.Markdown object>"
      ]
     },
     "metadata": {},
     "output_type": "display_data"
    },
    {
     "data": {
      "text/markdown": [
       "![](https://tse1-mm.cn.bing.net/th/id/OET.e7835a7fb6ee4baa81a78779e2d73d32?w=135&h=272&c=7&rs=1&o=5&pid=1.9)"
      ],
      "text/plain": [
       "<IPython.core.display.Markdown object>"
      ]
     },
     "metadata": {},
     "output_type": "display_data"
    },
    {
     "data": {
      "text/markdown": [
       "![](https://tse1-mm.cn.bing.net/th/id/OET.7ffa6c853d974d5c813f8a9883c9d8fa?w=135&h=135&c=7&rs=1&o=5&pid=1.9)"
      ],
      "text/plain": [
       "<IPython.core.display.Markdown object>"
      ]
     },
     "metadata": {},
     "output_type": "display_data"
    },
    {
     "data": {
      "text/markdown": [
       "![](https://tse1-mm.cn.bing.net/th/id/OET.b3c40d60a537416bba684283d94b7c81?w=135&h=135&c=7&rs=1&o=5&pid=1.9)"
      ],
      "text/plain": [
       "<IPython.core.display.Markdown object>"
      ]
     },
     "metadata": {},
     "output_type": "display_data"
    },
    {
     "data": {
      "text/markdown": [
       "![](https://tse1-mm.cn.bing.net/th/id/OET.743d10b2b71b43ad8dde870a9858753a?w=135&h=135&c=7&rs=1&o=5&pid=1.9)"
      ],
      "text/plain": [
       "<IPython.core.display.Markdown object>"
      ]
     },
     "metadata": {},
     "output_type": "display_data"
    },
    {
     "data": {
      "text/markdown": [
       "![](https://tse1-mm.cn.bing.net/th/id/OET.962cc476d45c4c6ea7f14ae9c10de749?w=135&h=135&c=7&rs=1&o=5&pid=1.9)"
      ],
      "text/plain": [
       "<IPython.core.display.Markdown object>"
      ]
     },
     "metadata": {},
     "output_type": "display_data"
    },
    {
     "data": {
      "text/markdown": [
       "![](https://tse1-mm.cn.bing.net/th/id/OET.f7173586f4a547afae5cc74da3403d8a?w=272&h=272&c=7&rs=1&o=5&pid=1.9)"
      ],
      "text/plain": [
       "<IPython.core.display.Markdown object>"
      ]
     },
     "metadata": {},
     "output_type": "display_data"
    },
    {
     "data": {
      "text/markdown": [
       "![](https://tse1-mm.cn.bing.net/th/id/OET.68c9d92cff064926a1450d8390831341?w=272&h=135&c=7&rs=1&o=5&pid=1.9)"
      ],
      "text/plain": [
       "<IPython.core.display.Markdown object>"
      ]
     },
     "metadata": {},
     "output_type": "display_data"
    },
    {
     "data": {
      "text/markdown": [
       "![](https://tse1-mm.cn.bing.net/th/id/OET.7dd44f30033b4b468044b0fdde334aa5?w=272&h=135&c=7&rs=1&o=5&pid=1.9)"
      ],
      "text/plain": [
       "<IPython.core.display.Markdown object>"
      ]
     },
     "metadata": {},
     "output_type": "display_data"
    },
    {
     "data": {
      "text/markdown": [
       "![](https://tse1-mm.cn.bing.net/th/id/OET.89bc6453152d446b8b84a6cc116bda02?w=272&h=135&c=7&rs=1&o=5&pid=1.9)"
      ],
      "text/plain": [
       "<IPython.core.display.Markdown object>"
      ]
     },
     "metadata": {},
     "output_type": "display_data"
    },
    {
     "data": {
      "text/markdown": [
       "![](https://tse1-mm.cn.bing.net/th/id/OET.1b16bde64e4d4f9a801d6cb5b00a5b49?w=272&h=135&c=7&rs=1&o=5&pid=1.9)"
      ],
      "text/plain": [
       "<IPython.core.display.Markdown object>"
      ]
     },
     "metadata": {},
     "output_type": "display_data"
    },
    {
     "data": {
      "text/markdown": [
       "![](https://tse1-mm.cn.bing.net/th/id/OET.de8ba1412e6d46d8b900eb4c9f07e91b?w=272&h=135&c=7&rs=1&o=5&pid=1.9)"
      ],
      "text/plain": [
       "<IPython.core.display.Markdown object>"
      ]
     },
     "metadata": {},
     "output_type": "display_data"
    },
    {
     "data": {
      "text/markdown": [
       "![](https://tse1-mm.cn.bing.net/th/id/OET.2f557fb3b82f41eebf20d33f0147b8dd?w=272&h=135&c=7&rs=1&o=5&pid=1.9)"
      ],
      "text/plain": [
       "<IPython.core.display.Markdown object>"
      ]
     },
     "metadata": {},
     "output_type": "display_data"
    },
    {
     "data": {
      "text/markdown": [
       "![](https://tse1-mm.cn.bing.net/th/id/OET.1f55426ea2474b6ea40604573fbe653e?w=135&h=135&c=7&rs=1&o=5&pid=1.9)"
      ],
      "text/plain": [
       "<IPython.core.display.Markdown object>"
      ]
     },
     "metadata": {},
     "output_type": "display_data"
    },
    {
     "data": {
      "text/markdown": [
       "![](https://tse1-mm.cn.bing.net/th/id/OET.c231bf0a75e14cfbadb84ea85b0f24bd?w=135&h=135&c=7&rs=1&o=5&pid=1.9)"
      ],
      "text/plain": [
       "<IPython.core.display.Markdown object>"
      ]
     },
     "metadata": {},
     "output_type": "display_data"
    },
    {
     "data": {
      "text/markdown": [
       "![](https://tse1-mm.cn.bing.net/th/id/OET.e17a4597ca3849d4809a081deb79c075?w=135&h=135&c=7&rs=1&o=5&pid=1.9)"
      ],
      "text/plain": [
       "<IPython.core.display.Markdown object>"
      ]
     },
     "metadata": {},
     "output_type": "display_data"
    },
    {
     "data": {
      "text/markdown": [
       "![](https://tse1-mm.cn.bing.net/th/id/OET.7357027f83ee44bb8b7d08716013939b?w=135&h=135&c=7&rs=1&o=5&pid=1.9)"
      ],
      "text/plain": [
       "<IPython.core.display.Markdown object>"
      ]
     },
     "metadata": {},
     "output_type": "display_data"
    },
    {
     "data": {
      "text/markdown": [
       "![](https://tse1-mm.cn.bing.net/th/id/OET.1ec0493ebfc0451983e24ef7afab32cc?w=272&h=272&c=7&rs=1&o=5&pid=1.9)"
      ],
      "text/plain": [
       "<IPython.core.display.Markdown object>"
      ]
     },
     "metadata": {},
     "output_type": "display_data"
    },
    {
     "data": {
      "text/markdown": [
       "![](https://tse1-mm.cn.bing.net/th/id/OET.1ca1d0f4d5af42f09decbe20d9258e08?w=272&h=135&c=7&rs=1&o=5&pid=1.9)"
      ],
      "text/plain": [
       "<IPython.core.display.Markdown object>"
      ]
     },
     "metadata": {},
     "output_type": "display_data"
    },
    {
     "data": {
      "text/markdown": [
       "![](https://tse1-mm.cn.bing.net/th/id/OET.ac36515ef40d41ce872ad24873b2b01e?w=272&h=135&c=7&rs=1&o=5&pid=1.9)"
      ],
      "text/plain": [
       "<IPython.core.display.Markdown object>"
      ]
     },
     "metadata": {},
     "output_type": "display_data"
    },
    {
     "data": {
      "text/markdown": [
       "![](https://tse1-mm.cn.bing.net/th/id/OET.191598f3fd704b93a141faa025145673?w=272&h=135&c=7&rs=1&o=5&pid=1.9)"
      ],
      "text/plain": [
       "<IPython.core.display.Markdown object>"
      ]
     },
     "metadata": {},
     "output_type": "display_data"
    },
    {
     "data": {
      "text/markdown": [
       "![](https://tse1-mm.cn.bing.net/th/id/OET.eff35fefece14bc999ae04aa7c012c2c?w=272&h=135&c=7&rs=1&o=5&pid=1.9)"
      ],
      "text/plain": [
       "<IPython.core.display.Markdown object>"
      ]
     },
     "metadata": {},
     "output_type": "display_data"
    },
    {
     "data": {
      "text/markdown": [
       "![](https://tse1-mm.cn.bing.net/th/id/OET.5354bdc5fb5143968c7b8dcda370919e?w=272&h=135&c=7&rs=1&o=5&pid=1.9)"
      ],
      "text/plain": [
       "<IPython.core.display.Markdown object>"
      ]
     },
     "metadata": {},
     "output_type": "display_data"
    },
    {
     "data": {
      "text/markdown": [
       "![](https://tse1-mm.cn.bing.net/th/id/OET.0c681e62143e49929c2f44e30ab61b90?w=272&h=135&c=7&rs=1&o=5&pid=1.9)"
      ],
      "text/plain": [
       "<IPython.core.display.Markdown object>"
      ]
     },
     "metadata": {},
     "output_type": "display_data"
    },
    {
     "data": {
      "text/markdown": [
       "![](https://tse1-mm.cn.bing.net/th/id/OET.738c80cb3daa48e79b6f29f100ec42ed?w=135&h=135&c=7&rs=1&o=5&pid=1.9)"
      ],
      "text/plain": [
       "<IPython.core.display.Markdown object>"
      ]
     },
     "metadata": {},
     "output_type": "display_data"
    },
    {
     "data": {
      "text/markdown": [
       "![](https://tse1-mm.cn.bing.net/th/id/OET.8ec6c4aee5194b0a896db5ef3191afab?w=135&h=135&c=7&rs=1&o=5&pid=1.9)"
      ],
      "text/plain": [
       "<IPython.core.display.Markdown object>"
      ]
     },
     "metadata": {},
     "output_type": "display_data"
    },
    {
     "data": {
      "text/markdown": [
       "![](https://tse1-mm.cn.bing.net/th/id/OET.7706e7f7221949bcb5f237c4fbfb7bc2?w=135&h=135&c=7&rs=1&o=5&pid=1.9)"
      ],
      "text/plain": [
       "<IPython.core.display.Markdown object>"
      ]
     },
     "metadata": {},
     "output_type": "display_data"
    },
    {
     "data": {
      "text/markdown": [
       "![](https://tse1-mm.cn.bing.net/th/id/OET.78ff3df35c654a4b913b297134bd63e0?w=135&h=135&c=7&rs=1&o=5&pid=1.9)"
      ],
      "text/plain": [
       "<IPython.core.display.Markdown object>"
      ]
     },
     "metadata": {},
     "output_type": "display_data"
    },
    {
     "data": {
      "text/markdown": [
       "![](https://tse1-mm.cn.bing.net/th/id/OET.5882b886bdba43cc8c841c6fbe0436a0?w=272&h=272&c=7&rs=1&o=5&pid=1.9)"
      ],
      "text/plain": [
       "<IPython.core.display.Markdown object>"
      ]
     },
     "metadata": {},
     "output_type": "display_data"
    },
    {
     "data": {
      "text/markdown": [
       "![](https://tse1-mm.cn.bing.net/th/id/OET.18a8a1511b164a00b850dcf1546fbca5?w=272&h=135&c=7&rs=1&o=5&pid=1.9)"
      ],
      "text/plain": [
       "<IPython.core.display.Markdown object>"
      ]
     },
     "metadata": {},
     "output_type": "display_data"
    },
    {
     "data": {
      "text/markdown": [
       "![](https://tse1-mm.cn.bing.net/th/id/OET.9906344df6f94b9fa3b3bd3decbdd80a?w=272&h=135&c=7&rs=1&o=5&pid=1.9)"
      ],
      "text/plain": [
       "<IPython.core.display.Markdown object>"
      ]
     },
     "metadata": {},
     "output_type": "display_data"
    },
    {
     "data": {
      "text/markdown": [
       "![](https://tse1-mm.cn.bing.net/th/id/OET.bca4b6230d324279aa55b1dbdaab003f?w=272&h=135&c=7&rs=1&o=5&pid=1.9)"
      ],
      "text/plain": [
       "<IPython.core.display.Markdown object>"
      ]
     },
     "metadata": {},
     "output_type": "display_data"
    },
    {
     "data": {
      "text/markdown": [
       "![](https://tse1-mm.cn.bing.net/th/id/OET.6440e4bd5f6f4b2faa1fad2276d6952c?w=272&h=135&c=7&rs=1&o=5&pid=1.9)"
      ],
      "text/plain": [
       "<IPython.core.display.Markdown object>"
      ]
     },
     "metadata": {},
     "output_type": "display_data"
    },
    {
     "data": {
      "text/markdown": [
       "![](https://tse1-mm.cn.bing.net/th/id/OET.688c677dbe9d4b1dbb9ac59f31d23787?w=272&h=135&c=7&rs=1&o=5&pid=1.9)"
      ],
      "text/plain": [
       "<IPython.core.display.Markdown object>"
      ]
     },
     "metadata": {},
     "output_type": "display_data"
    },
    {
     "data": {
      "text/markdown": [
       "![](https://tse1-mm.cn.bing.net/th/id/OET.76b3f676d5614d5faa84d53d411038fc?w=272&h=135&c=7&rs=1&o=5&pid=1.9)"
      ],
      "text/plain": [
       "<IPython.core.display.Markdown object>"
      ]
     },
     "metadata": {},
     "output_type": "display_data"
    },
    {
     "data": {
      "text/markdown": [
       "![](https://tse1-mm.cn.bing.net/th/id/OET.68bd78e1e180450b944ee6a559c83551?w=135&h=135&c=7&rs=1&o=5&pid=1.9)"
      ],
      "text/plain": [
       "<IPython.core.display.Markdown object>"
      ]
     },
     "metadata": {},
     "output_type": "display_data"
    },
    {
     "data": {
      "text/markdown": [
       "![](https://tse1-mm.cn.bing.net/th/id/OET.3e429d35b3b249d29a4d00e7debc0481?w=135&h=135&c=7&rs=1&o=5&pid=1.9)"
      ],
      "text/plain": [
       "<IPython.core.display.Markdown object>"
      ]
     },
     "metadata": {},
     "output_type": "display_data"
    },
    {
     "data": {
      "text/markdown": [
       "![](https://tse1-mm.cn.bing.net/th/id/OET.b711b852c3544fa1b42d03f7946edb15?w=135&h=135&c=7&rs=1&o=5&pid=1.9)"
      ],
      "text/plain": [
       "<IPython.core.display.Markdown object>"
      ]
     },
     "metadata": {},
     "output_type": "display_data"
    },
    {
     "data": {
      "text/markdown": [
       "![](https://tse1-mm.cn.bing.net/th/id/OET.c4fa28e274e54e388aee57a7814e3a8e?w=135&h=135&c=7&rs=1&o=5&pid=1.9)"
      ],
      "text/plain": [
       "<IPython.core.display.Markdown object>"
      ]
     },
     "metadata": {},
     "output_type": "display_data"
    },
    {
     "data": {
      "text/markdown": [
       "![](/rs/5g/LG/ic/ytiieusXgM2K8bLkEDP-AS1ePds.png)"
      ],
      "text/plain": [
       "<IPython.core.display.Markdown object>"
      ]
     },
     "metadata": {},
     "output_type": "display_data"
    }
   ],
   "source": [
    "from requests_html import HTMLSession\n",
    "\n",
    "session = HTMLSession()\n",
    "\n",
    "r = session.get(\"https://cn.bing.com/images/trending\")\n",
    "\n",
    "# 通过xpath找到图片标签\n",
    "items = r.html.xpath('//img/@src')\n",
    "\n",
    "for url in items:\n",
    "#    print(url)  # 获得图片src url\n",
    "    display(Markdown('![]({url})'.format(url=url)))  # 展示图片    "
   ]
  },
  {
   "cell_type": "markdown",
   "metadata": {
    "slideshow": {
     "slide_type": "slide"
    }
   },
   "source": [
    "\n",
    "## 总结你学到什麽新东西？\n",
    "* A 认识了xpath以及css selector\n",
    "* B 初尝试抓取liepin上的工作(限定地区)和图片新闻\n",
    "* C 尝试抓取了另外一张状态狗的图片\n",
    "\n",
    "\n",
    "## 总结你想会做什麽？\n",
    "* A 掌握一套较为完善的数据挖掘技能\n",
    "* B \n",
    "* C\n"
   ]
  },
  {
   "cell_type": "markdown",
   "metadata": {
    "slideshow": {
     "slide_type": "fragment"
    }
   },
   "source": [
    "---\n",
    "结束\n",
    "# 小结 😱"
   ]
  },
  {
   "cell_type": "code",
   "execution_count": null,
   "metadata": {},
   "outputs": [],
   "source": []
  }
 ],
 "metadata": {
  "kernelspec": {
   "display_name": "Python 3",
   "language": "python",
   "name": "python3"
  },
  "language_info": {
   "codemirror_mode": {
    "name": "ipython",
    "version": 3
   },
   "file_extension": ".py",
   "mimetype": "text/x-python",
   "name": "python",
   "nbconvert_exporter": "python",
   "pygments_lexer": "ipython3",
   "version": "3.7.3"
  },
  "toc": {
   "base_numbering": 1,
   "nav_menu": {},
   "number_sections": true,
   "sideBar": true,
   "skip_h1_title": false,
   "title_cell": "Table of Contents",
   "title_sidebar": "Contents",
   "toc_cell": false,
   "toc_position": {},
   "toc_section_display": true,
   "toc_window_display": false
  }
 },
 "nbformat": 4,
 "nbformat_minor": 2
}
